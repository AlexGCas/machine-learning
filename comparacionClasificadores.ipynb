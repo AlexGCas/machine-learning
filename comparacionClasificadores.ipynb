{
  "nbformat": 4,
  "nbformat_minor": 0,
  "metadata": {
    "colab": {
      "name": "comparacionClasificadores.ipynb",
      "provenance": [],
      "collapsed_sections": [],
      "include_colab_link": true
    },
    "kernelspec": {
      "name": "python3",
      "display_name": "Python 3"
    },
    "language_info": {
      "name": "python"
    }
  },
  "cells": [
    {
      "cell_type": "markdown",
      "metadata": {
        "id": "view-in-github",
        "colab_type": "text"
      },
      "source": [
        "<a href=\"https://colab.research.google.com/github/AlexGCas/machine-learning/blob/main/comparacionClasificadores.ipynb\" target=\"_parent\"><img src=\"https://colab.research.google.com/assets/colab-badge.svg\" alt=\"Open In Colab\"/></a>"
      ]
    },
    {
      "cell_type": "code",
      "execution_count": null,
      "metadata": {
        "id": "jP1xnUN1Fll2"
      },
      "outputs": [],
      "source": [
        "from google.colab.drive import mount"
      ]
    },
    {
      "cell_type": "code",
      "source": [
        "mount('/content/drive')"
      ],
      "metadata": {
        "colab": {
          "base_uri": "https://localhost:8080/"
        },
        "id": "AgOcHRKDJJSi",
        "outputId": "3a2fd5d9-8729-42e1-f563-82b931cfa1fc"
      },
      "execution_count": null,
      "outputs": [
        {
          "output_type": "stream",
          "name": "stdout",
          "text": [
            "Drive already mounted at /content/drive; to attempt to forcibly remount, call drive.mount(\"/content/drive\", force_remount=True).\n"
          ]
        }
      ]
    },
    {
      "cell_type": "code",
      "source": [
        "import os\n",
        "import pandas as pd\n",
        "import matplotlib.pyplot as plt"
      ],
      "metadata": {
        "id": "aJZLHuhdJV4J"
      },
      "execution_count": null,
      "outputs": []
    },
    {
      "cell_type": "code",
      "source": [
        "URL = '/content/drive/MyDrive/infoMedicaProyecto2/Casos_positivos_de_Covid-19_en_el_departamento_de_Antioquia.csv'\n",
        "URLLimpio = '/content/drive/MyDrive/infoMedicaProyecto2/datasetLimpio.csv'"
      ],
      "metadata": {
        "id": "8XCXKl0OKNWn"
      },
      "execution_count": null,
      "outputs": []
    },
    {
      "cell_type": "code",
      "source": [
        "datosRaw = pd.read_csv(URL)"
      ],
      "metadata": {
        "colab": {
          "base_uri": "https://localhost:8080/"
        },
        "id": "iL12sBuxKP0X",
        "outputId": "2b5f6ff0-c7e4-4505-9a24-9101077a0e79"
      },
      "execution_count": null,
      "outputs": [
        {
          "output_type": "stream",
          "name": "stderr",
          "text": [
            "/usr/local/lib/python3.7/dist-packages/IPython/core/interactiveshell.py:2882: DtypeWarning: Columns (14,17,22) have mixed types.Specify dtype option on import or set low_memory=False.\n",
            "  exec(code_obj, self.user_global_ns, self.user_ns)\n"
          ]
        }
      ]
    },
    {
      "cell_type": "code",
      "source": [
        "'''creacion de la columna de tiempo transcurrido entre aparición de los síntomas y diagnóstico'''\n",
        "datosRaw['tiempoDiagnostico'] = (pd.to_datetime(datosRaw['Fecha de diagnóstico'], format='%Y-%m-%d %H:%M:%S') - pd.to_datetime(datosRaw['Fecha de inicio de síntomas'], format='%Y-%m-%d %H:%M:%S')).dt.days"
      ],
      "metadata": {
        "id": "Fbbfa5aiX6lE"
      },
      "execution_count": null,
      "outputs": []
    },
    {
      "cell_type": "code",
      "source": [
        "datosRaw['tiempoDiagnostico'].head()"
      ],
      "metadata": {
        "colab": {
          "base_uri": "https://localhost:8080/"
        },
        "id": "TPcNhlRKce2d",
        "outputId": "98f33e79-9dda-471d-fd66-be02255cd7a3"
      },
      "execution_count": null,
      "outputs": [
        {
          "output_type": "execute_result",
          "data": {
            "text/plain": [
              "0    4.0\n",
              "1    4.0\n",
              "2    2.0\n",
              "3    2.0\n",
              "4    4.0\n",
              "Name: tiempoDiagnostico, dtype: float64"
            ]
          },
          "metadata": {},
          "execution_count": 21
        }
      ]
    },
    {
      "cell_type": "markdown",
      "source": [
        "# eliminación de columnas innecesarias\n",
        "  - ### fecha de muerte y fecha de recuperación:\n",
        "    ambas columnas tienen información complementaria sobre supervivencia o no   del paciente, si se recuperó en fecha de muerte aparece NaN, si murió en fecha de recuperación aparece NaN, por lo que se eliminarán ya que existe una columna que directamene dice si se recuperó o murió\n",
        "  - ### tipipo de recuperación:\n",
        "    para el trabajo se supone que la forma en la que se detectó la recuperación no influye en si el paciente se va a recuperar o no.\n",
        "  - ### código divipola departamento, nombre departamento, nombre del país código ISO del país: \n",
        "    todos los registros son de antioquia y por lo tanto son de colombia por lo que no es necesario considerar estas columnas\n",
        "  - ### código divipola municipio:\n",
        "    información identica a nombre municipio, se elimina porque nombre municipio tiene una mejor interpretación\n",
        "  - ### unidad de medida edad:\n",
        "    se utiliza para modificar la columna edad y luego se elimina. de acuerdo a https://www.datos.gov.co/Salud-y-Protecci-n-Social/Casos-positivos-de-COVID-19-en-Colombia/gt2j-8ykr 1 es años, 2 es meses, 3 es días, hay inconsistencias puesto que hay registros con 112 años o 1 día y por esto se asumirá que hay un problema en los datos de entrada y que todas las edades están ingresadas en años\n",
        "  - ### nombre del grupo étnico:\n",
        "    solo 2787 datos tienen nombre de grupo étnico, por lo tanto esta columna no se va a utilizar.\n",
        "  - ### Id de caso:\n",
        "    columna de identificación sin información relevante para diagnóstico\n",
        "  - ### fecha de notificación:\n",
        "    solo indica cuando se hizo el reporte a sivigila\n",
        "  - ### fecha de reporte web:\n",
        "    solo indica cuando se subió el dato a la plataforma de datos abiertos.\n",
        "  - ### tipo de contagio:\n",
        "    para el trabajo se supone que la forma del contagio no influye en la gravedad del mismo.\n",
        "  - ### fecha de diagnostico y fecha inicio sintomas:\n",
        "    la diferencia entre ambas fechas puede ser de valor médico, se espera que un diagnóstico rápido lleve a un tratamiento más efectivo, pero las fechas individuales se van a eliminar"
      ],
      "metadata": {
        "id": "YUZzIUn18fy2"
      }
    },
    {
      "cell_type": "markdown",
      "source": [
        "# máximos y mínimos según unidad de medida de edad"
      ],
      "metadata": {
        "id": "R2d7lH5BTnkM"
      }
    },
    {
      "cell_type": "code",
      "source": [
        "print(\"maximos\\n\", datosRaw.groupby('Unidad de medida de edad')[\"Edad\"].max())\n",
        "print(\"minimos\\n\", datosRaw.groupby('Unidad de medida de edad')[\"Edad\"].min())"
      ],
      "metadata": {
        "colab": {
          "base_uri": "https://localhost:8080/"
        },
        "id": "FJxq8nsKSGhS",
        "outputId": "038bec7c-b726-4c25-c632-cf236af85657"
      },
      "execution_count": null,
      "outputs": [
        {
          "output_type": "stream",
          "name": "stdout",
          "text": [
            "maximos\n",
            " Unidad de medida de edad\n",
            "1    112\n",
            "2     79\n",
            "3     29\n",
            "Name: Edad, dtype: int64\n",
            "minimos\n",
            " Unidad de medida de edad\n",
            "1    1\n",
            "2    1\n",
            "3    1\n",
            "Name: Edad, dtype: int64\n"
          ]
        }
      ]
    },
    {
      "cell_type": "code",
      "source": [
        "datosRaw.groupby('Unidad de medida de edad')['Unidad de medida de edad'].count()"
      ],
      "metadata": {
        "colab": {
          "base_uri": "https://localhost:8080/"
        },
        "id": "wrMiieY4LaoZ",
        "outputId": "92f5ab49-ae44-44af-8f44-a8efbc9931f1"
      },
      "execution_count": null,
      "outputs": [
        {
          "output_type": "execute_result",
          "data": {
            "text/plain": [
              "Unidad de medida de edad\n",
              "1    914024\n",
              "2      3372\n",
              "3       138\n",
              "Name: Unidad de medida de edad, dtype: int64"
            ]
          },
          "metadata": {},
          "execution_count": 23
        }
      ]
    },
    {
      "cell_type": "code",
      "source": [
        "datosRaw.groupby('Nombre departamento')['Nombre departamento'].count()"
      ],
      "metadata": {
        "id": "GbMwZdMAQGC3",
        "colab": {
          "base_uri": "https://localhost:8080/"
        },
        "outputId": "949bdd70-0006-48e6-b651-10aa858ba9e3"
      },
      "execution_count": null,
      "outputs": [
        {
          "output_type": "execute_result",
          "data": {
            "text/plain": [
              "Nombre departamento\n",
              "ANTIOQUIA    917534\n",
              "Name: Nombre departamento, dtype: int64"
            ]
          },
          "metadata": {},
          "execution_count": 24
        }
      ]
    },
    {
      "cell_type": "code",
      "source": [
        "datosRaw.groupby('Pertenencia étnica')['Pertenencia étnica'].count()"
      ],
      "metadata": {
        "colab": {
          "base_uri": "https://localhost:8080/"
        },
        "id": "ZVBwSvV7QEYK",
        "outputId": "67589ae5-41b8-4ae5-a176-119162f7f72b"
      },
      "execution_count": null,
      "outputs": [
        {
          "output_type": "execute_result",
          "data": {
            "text/plain": [
              "Pertenencia étnica\n",
              "1.0      2787\n",
              "2.0         1\n",
              "5.0     19786\n",
              "6.0    894792\n",
              "Name: Pertenencia étnica, dtype: int64"
            ]
          },
          "metadata": {},
          "execution_count": 25
        }
      ]
    },
    {
      "cell_type": "code",
      "source": [
        "datosRaw.groupby('Tipo de contagio')['Tipo de contagio'].count()"
      ],
      "metadata": {
        "colab": {
          "base_uri": "https://localhost:8080/"
        },
        "id": "j99KRMKGOGPF",
        "outputId": "1562c3e6-4396-4bfa-88df-1703789eb761"
      },
      "execution_count": null,
      "outputs": [
        {
          "output_type": "execute_result",
          "data": {
            "text/plain": [
              "Tipo de contagio\n",
              "Comunitaria    457141\n",
              "En estudio     136569\n",
              "Importado         850\n",
              "Relacionado    322974\n",
              "Name: Tipo de contagio, dtype: int64"
            ]
          },
          "metadata": {},
          "execution_count": 26
        }
      ]
    },
    {
      "cell_type": "code",
      "source": [
        "datosRaw.groupby('Ubicación del caso')['Ubicación del caso'].count()"
      ],
      "metadata": {
        "colab": {
          "base_uri": "https://localhost:8080/"
        },
        "id": "DsIp12jFOyVf",
        "outputId": "20a3f40c-c272-4ba3-8946-ddefd9859f58"
      },
      "execution_count": null,
      "outputs": [
        {
          "output_type": "execute_result",
          "data": {
            "text/plain": [
              "Ubicación del caso\n",
              "Casa            895452\n",
              "Fallecido        18258\n",
              "Hospital           339\n",
              "Hospital UCI        50\n",
              "casa               583\n",
              "Name: Ubicación del caso, dtype: int64"
            ]
          },
          "metadata": {},
          "execution_count": 27
        }
      ]
    },
    {
      "cell_type": "code",
      "source": [
        "datosRaw.groupby('Estado')['Estado'].count()"
      ],
      "metadata": {
        "colab": {
          "base_uri": "https://localhost:8080/"
        },
        "id": "oTKUbJn-Oygh",
        "outputId": "6089c630-4b7a-4dbc-ed61-aea30d8f5c70"
      },
      "execution_count": null,
      "outputs": [
        {
          "output_type": "execute_result",
          "data": {
            "text/plain": [
              "Estado\n",
              "Fallecido     18258\n",
              "Grave            50\n",
              "Leve         892810\n",
              "Moderado        339\n",
              "leve           3225\n",
              "Name: Estado, dtype: int64"
            ]
          },
          "metadata": {},
          "execution_count": 28
        }
      ]
    },
    {
      "cell_type": "code",
      "source": [
        "datosRaw.groupby('Recuperado')['Recuperado'].count()"
      ],
      "metadata": {
        "colab": {
          "base_uri": "https://localhost:8080/"
        },
        "id": "eAGJBZ_BPeun",
        "outputId": "b58337bf-3f74-4566-cf00-9a09300eb6c5"
      },
      "execution_count": null,
      "outputs": [
        {
          "output_type": "execute_result",
          "data": {
            "text/plain": [
              "Recuperado\n",
              "Activo           506\n",
              "Fallecido      18228\n",
              "Recuperado    896377\n",
              "fallecido         30\n",
              "Name: Recuperado, dtype: int64"
            ]
          },
          "metadata": {},
          "execution_count": 29
        }
      ]
    },
    {
      "cell_type": "markdown",
      "source": [
        "en la columna Nombre del grupo étnico, si hay un NaN, indica que no corresponde a un grupo etnico reconocido y se reemplaza esa variable por ninguno"
      ],
      "metadata": {
        "id": "Z_hCsV9RyvtH"
      }
    },
    {
      "cell_type": "code",
      "source": [
        "datosRaw.groupby('Nombre del grupo étnico')['Nombre del grupo étnico'].count()"
      ],
      "metadata": {
        "colab": {
          "base_uri": "https://localhost:8080/"
        },
        "id": "IFWqcdmbz03p",
        "outputId": "997a1d58-ae88-4794-89ad-d3d664fb337d"
      },
      "execution_count": null,
      "outputs": [
        {
          "output_type": "execute_result",
          "data": {
            "text/plain": [
              "Nombre del grupo étnico\n",
              "ACHIOTE                  1\n",
              "AGUA CLARA               1\n",
              "AGUAS VIVAS              5\n",
              "ALAINAPA                 1\n",
              "ALDEA DE MARIA           2\n",
              "                      ... \n",
              "YAGUA                    2\n",
              "YANACONA                 5\n",
              "ZANJA HONDA              1\n",
              "ZARAGOZA  TAMARINDO      1\n",
              "ZENU                   463\n",
              "Name: Nombre del grupo étnico, Length: 368, dtype: int64"
            ]
          },
          "metadata": {},
          "execution_count": 30
        }
      ]
    },
    {
      "cell_type": "markdown",
      "source": [
        "reemplazo de las variables de sexo por numéricas y de fallecido por fallecido"
      ],
      "metadata": {
        "id": "MrVmpotostHy"
      }
    },
    {
      "cell_type": "code",
      "source": [
        "columnas = ['Sexo', 'Edad', 'Nombre municipio', 'tiempoDiagnostico', 'Pertenencia étnica', 'Recuperado']\n",
        "datosRaw2 = datosRaw[columnas]\n",
        "mapeoSexo = {\"F\": 1, \"M\": 0}\n",
        "mapeoEtnia = {1: 'indigena', 2: 'rom', 3: 'raizal', 4: 'palenquero', 5: 'negro', 6: 'otro'}\n",
        "mapeoRecuperado = {\"fallecido\": 'Fallecido'}\n",
        "datosRaw2.Sexo.replace(mapeoSexo, inplace = True)\n",
        "datosRaw2.Recuperado.replace(mapeoRecuperado, inplace = True)\n",
        "datosRaw2['Pertenencia étnica'].replace(mapeoEtnia, inplace = True)\n",
        "datosRaw2.info()"
      ],
      "metadata": {
        "colab": {
          "base_uri": "https://localhost:8080/"
        },
        "id": "Lzv1QEe9b-qJ",
        "outputId": "f3cff780-f0b3-40ce-f178-d7b242e007e9"
      },
      "execution_count": null,
      "outputs": [
        {
          "output_type": "stream",
          "name": "stderr",
          "text": [
            "/usr/local/lib/python3.7/dist-packages/pandas/core/generic.py:6619: SettingWithCopyWarning: \n",
            "A value is trying to be set on a copy of a slice from a DataFrame\n",
            "\n",
            "See the caveats in the documentation: https://pandas.pydata.org/pandas-docs/stable/user_guide/indexing.html#returning-a-view-versus-a-copy\n",
            "  return self._update_inplace(result)\n"
          ]
        },
        {
          "output_type": "stream",
          "name": "stdout",
          "text": [
            "<class 'pandas.core.frame.DataFrame'>\n",
            "RangeIndex: 917534 entries, 0 to 917533\n",
            "Data columns (total 6 columns):\n",
            " #   Column              Non-Null Count   Dtype  \n",
            "---  ------              --------------   -----  \n",
            " 0   Sexo                917534 non-null  int64  \n",
            " 1   Edad                917534 non-null  int64  \n",
            " 2   Nombre municipio    917534 non-null  object \n",
            " 3   tiempoDiagnostico   915715 non-null  float64\n",
            " 4   Pertenencia étnica  917366 non-null  object \n",
            " 5   Recuperado          915141 non-null  object \n",
            "dtypes: float64(1), int64(2), object(3)\n",
            "memory usage: 42.0+ MB\n"
          ]
        }
      ]
    },
    {
      "cell_type": "code",
      "source": [
        "datosRaw2"
      ],
      "metadata": {
        "colab": {
          "base_uri": "https://localhost:8080/",
          "height": 424
        },
        "id": "_iKaiTjA6M78",
        "outputId": "1ad10765-5a05-4006-ef8f-d9759e6ec3d0"
      },
      "execution_count": null,
      "outputs": [
        {
          "output_type": "execute_result",
          "data": {
            "text/plain": [
              "        Sexo  Edad Nombre municipio  tiempoDiagnostico Pertenencia étnica  \\\n",
              "0          1    34         MEDELLIN                4.0               otro   \n",
              "1          1    20         MEDELLIN                4.0               otro   \n",
              "2          1    46           ITAGUI                2.0               otro   \n",
              "3          0    40            BELLO                2.0               otro   \n",
              "4          0    38           ITAGUI                4.0               otro   \n",
              "...      ...   ...              ...                ...                ...   \n",
              "917529     0    47         MEDELLIN                6.0               otro   \n",
              "917530     0    35         MEDELLIN                0.0               otro   \n",
              "917531     1    65           ITAGUI                0.0               otro   \n",
              "917532     1    39         MEDELLIN                2.0               otro   \n",
              "917533     1    20         MEDELLIN                2.0               otro   \n",
              "\n",
              "        Recuperado  \n",
              "0       Recuperado  \n",
              "1       Recuperado  \n",
              "2       Recuperado  \n",
              "3       Recuperado  \n",
              "4       Recuperado  \n",
              "...            ...  \n",
              "917529  Recuperado  \n",
              "917530  Recuperado  \n",
              "917531  Recuperado  \n",
              "917532  Recuperado  \n",
              "917533  Recuperado  \n",
              "\n",
              "[917534 rows x 6 columns]"
            ],
            "text/html": [
              "\n",
              "  <div id=\"df-a0351c4e-649f-4332-b0e4-d743692be645\">\n",
              "    <div class=\"colab-df-container\">\n",
              "      <div>\n",
              "<style scoped>\n",
              "    .dataframe tbody tr th:only-of-type {\n",
              "        vertical-align: middle;\n",
              "    }\n",
              "\n",
              "    .dataframe tbody tr th {\n",
              "        vertical-align: top;\n",
              "    }\n",
              "\n",
              "    .dataframe thead th {\n",
              "        text-align: right;\n",
              "    }\n",
              "</style>\n",
              "<table border=\"1\" class=\"dataframe\">\n",
              "  <thead>\n",
              "    <tr style=\"text-align: right;\">\n",
              "      <th></th>\n",
              "      <th>Sexo</th>\n",
              "      <th>Edad</th>\n",
              "      <th>Nombre municipio</th>\n",
              "      <th>tiempoDiagnostico</th>\n",
              "      <th>Pertenencia étnica</th>\n",
              "      <th>Recuperado</th>\n",
              "    </tr>\n",
              "  </thead>\n",
              "  <tbody>\n",
              "    <tr>\n",
              "      <th>0</th>\n",
              "      <td>1</td>\n",
              "      <td>34</td>\n",
              "      <td>MEDELLIN</td>\n",
              "      <td>4.0</td>\n",
              "      <td>otro</td>\n",
              "      <td>Recuperado</td>\n",
              "    </tr>\n",
              "    <tr>\n",
              "      <th>1</th>\n",
              "      <td>1</td>\n",
              "      <td>20</td>\n",
              "      <td>MEDELLIN</td>\n",
              "      <td>4.0</td>\n",
              "      <td>otro</td>\n",
              "      <td>Recuperado</td>\n",
              "    </tr>\n",
              "    <tr>\n",
              "      <th>2</th>\n",
              "      <td>1</td>\n",
              "      <td>46</td>\n",
              "      <td>ITAGUI</td>\n",
              "      <td>2.0</td>\n",
              "      <td>otro</td>\n",
              "      <td>Recuperado</td>\n",
              "    </tr>\n",
              "    <tr>\n",
              "      <th>3</th>\n",
              "      <td>0</td>\n",
              "      <td>40</td>\n",
              "      <td>BELLO</td>\n",
              "      <td>2.0</td>\n",
              "      <td>otro</td>\n",
              "      <td>Recuperado</td>\n",
              "    </tr>\n",
              "    <tr>\n",
              "      <th>4</th>\n",
              "      <td>0</td>\n",
              "      <td>38</td>\n",
              "      <td>ITAGUI</td>\n",
              "      <td>4.0</td>\n",
              "      <td>otro</td>\n",
              "      <td>Recuperado</td>\n",
              "    </tr>\n",
              "    <tr>\n",
              "      <th>...</th>\n",
              "      <td>...</td>\n",
              "      <td>...</td>\n",
              "      <td>...</td>\n",
              "      <td>...</td>\n",
              "      <td>...</td>\n",
              "      <td>...</td>\n",
              "    </tr>\n",
              "    <tr>\n",
              "      <th>917529</th>\n",
              "      <td>0</td>\n",
              "      <td>47</td>\n",
              "      <td>MEDELLIN</td>\n",
              "      <td>6.0</td>\n",
              "      <td>otro</td>\n",
              "      <td>Recuperado</td>\n",
              "    </tr>\n",
              "    <tr>\n",
              "      <th>917530</th>\n",
              "      <td>0</td>\n",
              "      <td>35</td>\n",
              "      <td>MEDELLIN</td>\n",
              "      <td>0.0</td>\n",
              "      <td>otro</td>\n",
              "      <td>Recuperado</td>\n",
              "    </tr>\n",
              "    <tr>\n",
              "      <th>917531</th>\n",
              "      <td>1</td>\n",
              "      <td>65</td>\n",
              "      <td>ITAGUI</td>\n",
              "      <td>0.0</td>\n",
              "      <td>otro</td>\n",
              "      <td>Recuperado</td>\n",
              "    </tr>\n",
              "    <tr>\n",
              "      <th>917532</th>\n",
              "      <td>1</td>\n",
              "      <td>39</td>\n",
              "      <td>MEDELLIN</td>\n",
              "      <td>2.0</td>\n",
              "      <td>otro</td>\n",
              "      <td>Recuperado</td>\n",
              "    </tr>\n",
              "    <tr>\n",
              "      <th>917533</th>\n",
              "      <td>1</td>\n",
              "      <td>20</td>\n",
              "      <td>MEDELLIN</td>\n",
              "      <td>2.0</td>\n",
              "      <td>otro</td>\n",
              "      <td>Recuperado</td>\n",
              "    </tr>\n",
              "  </tbody>\n",
              "</table>\n",
              "<p>917534 rows × 6 columns</p>\n",
              "</div>\n",
              "      <button class=\"colab-df-convert\" onclick=\"convertToInteractive('df-a0351c4e-649f-4332-b0e4-d743692be645')\"\n",
              "              title=\"Convert this dataframe to an interactive table.\"\n",
              "              style=\"display:none;\">\n",
              "        \n",
              "  <svg xmlns=\"http://www.w3.org/2000/svg\" height=\"24px\"viewBox=\"0 0 24 24\"\n",
              "       width=\"24px\">\n",
              "    <path d=\"M0 0h24v24H0V0z\" fill=\"none\"/>\n",
              "    <path d=\"M18.56 5.44l.94 2.06.94-2.06 2.06-.94-2.06-.94-.94-2.06-.94 2.06-2.06.94zm-11 1L8.5 8.5l.94-2.06 2.06-.94-2.06-.94L8.5 2.5l-.94 2.06-2.06.94zm10 10l.94 2.06.94-2.06 2.06-.94-2.06-.94-.94-2.06-.94 2.06-2.06.94z\"/><path d=\"M17.41 7.96l-1.37-1.37c-.4-.4-.92-.59-1.43-.59-.52 0-1.04.2-1.43.59L10.3 9.45l-7.72 7.72c-.78.78-.78 2.05 0 2.83L4 21.41c.39.39.9.59 1.41.59.51 0 1.02-.2 1.41-.59l7.78-7.78 2.81-2.81c.8-.78.8-2.07 0-2.86zM5.41 20L4 18.59l7.72-7.72 1.47 1.35L5.41 20z\"/>\n",
              "  </svg>\n",
              "      </button>\n",
              "      \n",
              "  <style>\n",
              "    .colab-df-container {\n",
              "      display:flex;\n",
              "      flex-wrap:wrap;\n",
              "      gap: 12px;\n",
              "    }\n",
              "\n",
              "    .colab-df-convert {\n",
              "      background-color: #E8F0FE;\n",
              "      border: none;\n",
              "      border-radius: 50%;\n",
              "      cursor: pointer;\n",
              "      display: none;\n",
              "      fill: #1967D2;\n",
              "      height: 32px;\n",
              "      padding: 0 0 0 0;\n",
              "      width: 32px;\n",
              "    }\n",
              "\n",
              "    .colab-df-convert:hover {\n",
              "      background-color: #E2EBFA;\n",
              "      box-shadow: 0px 1px 2px rgba(60, 64, 67, 0.3), 0px 1px 3px 1px rgba(60, 64, 67, 0.15);\n",
              "      fill: #174EA6;\n",
              "    }\n",
              "\n",
              "    [theme=dark] .colab-df-convert {\n",
              "      background-color: #3B4455;\n",
              "      fill: #D2E3FC;\n",
              "    }\n",
              "\n",
              "    [theme=dark] .colab-df-convert:hover {\n",
              "      background-color: #434B5C;\n",
              "      box-shadow: 0px 1px 3px 1px rgba(0, 0, 0, 0.15);\n",
              "      filter: drop-shadow(0px 1px 2px rgba(0, 0, 0, 0.3));\n",
              "      fill: #FFFFFF;\n",
              "    }\n",
              "  </style>\n",
              "\n",
              "      <script>\n",
              "        const buttonEl =\n",
              "          document.querySelector('#df-a0351c4e-649f-4332-b0e4-d743692be645 button.colab-df-convert');\n",
              "        buttonEl.style.display =\n",
              "          google.colab.kernel.accessAllowed ? 'block' : 'none';\n",
              "\n",
              "        async function convertToInteractive(key) {\n",
              "          const element = document.querySelector('#df-a0351c4e-649f-4332-b0e4-d743692be645');\n",
              "          const dataTable =\n",
              "            await google.colab.kernel.invokeFunction('convertToInteractive',\n",
              "                                                     [key], {});\n",
              "          if (!dataTable) return;\n",
              "\n",
              "          const docLinkHtml = 'Like what you see? Visit the ' +\n",
              "            '<a target=\"_blank\" href=https://colab.research.google.com/notebooks/data_table.ipynb>data table notebook</a>'\n",
              "            + ' to learn more about interactive tables.';\n",
              "          element.innerHTML = '';\n",
              "          dataTable['output_type'] = 'display_data';\n",
              "          await google.colab.output.renderOutput(dataTable, element);\n",
              "          const docLink = document.createElement('div');\n",
              "          docLink.innerHTML = docLinkHtml;\n",
              "          element.appendChild(docLink);\n",
              "        }\n",
              "      </script>\n",
              "    </div>\n",
              "  </div>\n",
              "  "
            ]
          },
          "metadata": {},
          "execution_count": 32
        }
      ]
    },
    {
      "cell_type": "markdown",
      "source": [
        "# pasos a seguir\n",
        "- Como los datos nulos en datosRaw2 info para la columna recuperado son solo 2392, un 0.2% de los datos totales, la estrategia usada será la de eliminación para no añadir ruido a los datos.\n",
        "- Eliminando además los datos nulos de tiempoDiagnostico y pertenencia etnica la cantidad total de datos eliminados sería de 4377, un 0.47% de la totalidad de los datos. se eliminaran los datos en vez de imputarlos por la misma razón\n",
        "- los casos activos se eliminarán del dataset porque no hay forma de validar\n",
        "- one hot encoding para nombre municipio y pertenencia étnica\n",
        "- escalar edad y tiempoDiagnostico\n",
        "\n"
      ],
      "metadata": {
        "id": "Ev-suu6PiEwN"
      }
    },
    {
      "cell_type": "code",
      "source": [
        "datosRaw3 = datosRaw2[(~datosRaw2['Recuperado'].isna()) & (~datosRaw2['tiempoDiagnostico'].isna()) & (~datosRaw2['Pertenencia étnica'].isna()) & ~(datosRaw2['Recuperado'] == 'Activo')] \n",
        "municipioDummies = pd.get_dummies(datosRaw3['Nombre municipio'])\n",
        "etniaDummies = pd.get_dummies(datosRaw3['Nombre municipio'])\n",
        "datosRaw3['Edad'] = datosRaw3['Edad']/datosRaw3['Edad'].max()\n",
        "datosRaw3['tiempoDiagnostico'] = datosRaw3['tiempoDiagnostico']/datosRaw3['tiempoDiagnostico'].max()\n",
        "datosRaw3.info()"
      ],
      "metadata": {
        "colab": {
          "base_uri": "https://localhost:8080/"
        },
        "id": "k1KLD_LSkO1s",
        "outputId": "f71cbd15-2ce7-48f9-dbe1-539e1e35ed98"
      },
      "execution_count": null,
      "outputs": [
        {
          "output_type": "stream",
          "name": "stdout",
          "text": [
            "<class 'pandas.core.frame.DataFrame'>\n",
            "Int64Index: 912807 entries, 0 to 917533\n",
            "Data columns (total 6 columns):\n",
            " #   Column              Non-Null Count   Dtype  \n",
            "---  ------              --------------   -----  \n",
            " 0   Sexo                912807 non-null  int64  \n",
            " 1   Edad                912807 non-null  float64\n",
            " 2   Nombre municipio    912807 non-null  object \n",
            " 3   tiempoDiagnostico   912807 non-null  float64\n",
            " 4   Pertenencia étnica  912807 non-null  object \n",
            " 5   Recuperado          912807 non-null  object \n",
            "dtypes: float64(2), int64(1), object(3)\n",
            "memory usage: 48.7+ MB\n"
          ]
        },
        {
          "output_type": "stream",
          "name": "stderr",
          "text": [
            "/usr/local/lib/python3.7/dist-packages/ipykernel_launcher.py:4: SettingWithCopyWarning: \n",
            "A value is trying to be set on a copy of a slice from a DataFrame.\n",
            "Try using .loc[row_indexer,col_indexer] = value instead\n",
            "\n",
            "See the caveats in the documentation: https://pandas.pydata.org/pandas-docs/stable/user_guide/indexing.html#returning-a-view-versus-a-copy\n",
            "  after removing the cwd from sys.path.\n",
            "/usr/local/lib/python3.7/dist-packages/ipykernel_launcher.py:5: SettingWithCopyWarning: \n",
            "A value is trying to be set on a copy of a slice from a DataFrame.\n",
            "Try using .loc[row_indexer,col_indexer] = value instead\n",
            "\n",
            "See the caveats in the documentation: https://pandas.pydata.org/pandas-docs/stable/user_guide/indexing.html#returning-a-view-versus-a-copy\n",
            "  \"\"\"\n"
          ]
        }
      ]
    },
    {
      "cell_type": "code",
      "source": [
        "columnas = ['Sexo', 'Edad', 'tiempoDiagnostico']\n",
        "datasetLimpio = pd.concat([datosRaw3[columnas], municipioDummies, etniaDummies, datosRaw3['Recuperado']], axis = 1)\n",
        "datasetLimpio.head()"
      ],
      "metadata": {
        "colab": {
          "base_uri": "https://localhost:8080/",
          "height": 236
        },
        "id": "YVMZoQWCiW-Q",
        "outputId": "69b5eeb8-ee4d-4faf-dc6f-143459962245"
      },
      "execution_count": null,
      "outputs": [
        {
          "output_type": "execute_result",
          "data": {
            "text/plain": [
              "   Sexo      Edad  tiempoDiagnostico  ABEJORRAL  ABRIAQUI  ALEJANDRIA  AMAGA  \\\n",
              "0     1  0.303571           0.021164          0         0           0      0   \n",
              "1     1  0.178571           0.021164          0         0           0      0   \n",
              "2     1  0.410714           0.010582          0         0           0      0   \n",
              "3     0  0.357143           0.010582          0         0           0      0   \n",
              "4     0  0.339286           0.021164          0         0           0      0   \n",
              "\n",
              "   AMALFI  ANDES  ANGELOPOLIS  ...  VALPARAISO  VEGACHI  VENECIA  \\\n",
              "0       0      0            0  ...           0        0        0   \n",
              "1       0      0            0  ...           0        0        0   \n",
              "2       0      0            0  ...           0        0        0   \n",
              "3       0      0            0  ...           0        0        0   \n",
              "4       0      0            0  ...           0        0        0   \n",
              "\n",
              "   VIGIA DEL FUERTE  YALI  YARUMAL  YOLOMBO  YONDO (CASABE)  ZARAGOZA  \\\n",
              "0                 0     0        0        0               0         0   \n",
              "1                 0     0        0        0               0         0   \n",
              "2                 0     0        0        0               0         0   \n",
              "3                 0     0        0        0               0         0   \n",
              "4                 0     0        0        0               0         0   \n",
              "\n",
              "   Recuperado  \n",
              "0  Recuperado  \n",
              "1  Recuperado  \n",
              "2  Recuperado  \n",
              "3  Recuperado  \n",
              "4  Recuperado  \n",
              "\n",
              "[5 rows x 260 columns]"
            ],
            "text/html": [
              "\n",
              "  <div id=\"df-d470788c-44ce-4cd0-b200-840fcdc1d52c\">\n",
              "    <div class=\"colab-df-container\">\n",
              "      <div>\n",
              "<style scoped>\n",
              "    .dataframe tbody tr th:only-of-type {\n",
              "        vertical-align: middle;\n",
              "    }\n",
              "\n",
              "    .dataframe tbody tr th {\n",
              "        vertical-align: top;\n",
              "    }\n",
              "\n",
              "    .dataframe thead th {\n",
              "        text-align: right;\n",
              "    }\n",
              "</style>\n",
              "<table border=\"1\" class=\"dataframe\">\n",
              "  <thead>\n",
              "    <tr style=\"text-align: right;\">\n",
              "      <th></th>\n",
              "      <th>Sexo</th>\n",
              "      <th>Edad</th>\n",
              "      <th>tiempoDiagnostico</th>\n",
              "      <th>ABEJORRAL</th>\n",
              "      <th>ABRIAQUI</th>\n",
              "      <th>ALEJANDRIA</th>\n",
              "      <th>AMAGA</th>\n",
              "      <th>AMALFI</th>\n",
              "      <th>ANDES</th>\n",
              "      <th>ANGELOPOLIS</th>\n",
              "      <th>...</th>\n",
              "      <th>VALPARAISO</th>\n",
              "      <th>VEGACHI</th>\n",
              "      <th>VENECIA</th>\n",
              "      <th>VIGIA DEL FUERTE</th>\n",
              "      <th>YALI</th>\n",
              "      <th>YARUMAL</th>\n",
              "      <th>YOLOMBO</th>\n",
              "      <th>YONDO (CASABE)</th>\n",
              "      <th>ZARAGOZA</th>\n",
              "      <th>Recuperado</th>\n",
              "    </tr>\n",
              "  </thead>\n",
              "  <tbody>\n",
              "    <tr>\n",
              "      <th>0</th>\n",
              "      <td>1</td>\n",
              "      <td>0.303571</td>\n",
              "      <td>0.021164</td>\n",
              "      <td>0</td>\n",
              "      <td>0</td>\n",
              "      <td>0</td>\n",
              "      <td>0</td>\n",
              "      <td>0</td>\n",
              "      <td>0</td>\n",
              "      <td>0</td>\n",
              "      <td>...</td>\n",
              "      <td>0</td>\n",
              "      <td>0</td>\n",
              "      <td>0</td>\n",
              "      <td>0</td>\n",
              "      <td>0</td>\n",
              "      <td>0</td>\n",
              "      <td>0</td>\n",
              "      <td>0</td>\n",
              "      <td>0</td>\n",
              "      <td>Recuperado</td>\n",
              "    </tr>\n",
              "    <tr>\n",
              "      <th>1</th>\n",
              "      <td>1</td>\n",
              "      <td>0.178571</td>\n",
              "      <td>0.021164</td>\n",
              "      <td>0</td>\n",
              "      <td>0</td>\n",
              "      <td>0</td>\n",
              "      <td>0</td>\n",
              "      <td>0</td>\n",
              "      <td>0</td>\n",
              "      <td>0</td>\n",
              "      <td>...</td>\n",
              "      <td>0</td>\n",
              "      <td>0</td>\n",
              "      <td>0</td>\n",
              "      <td>0</td>\n",
              "      <td>0</td>\n",
              "      <td>0</td>\n",
              "      <td>0</td>\n",
              "      <td>0</td>\n",
              "      <td>0</td>\n",
              "      <td>Recuperado</td>\n",
              "    </tr>\n",
              "    <tr>\n",
              "      <th>2</th>\n",
              "      <td>1</td>\n",
              "      <td>0.410714</td>\n",
              "      <td>0.010582</td>\n",
              "      <td>0</td>\n",
              "      <td>0</td>\n",
              "      <td>0</td>\n",
              "      <td>0</td>\n",
              "      <td>0</td>\n",
              "      <td>0</td>\n",
              "      <td>0</td>\n",
              "      <td>...</td>\n",
              "      <td>0</td>\n",
              "      <td>0</td>\n",
              "      <td>0</td>\n",
              "      <td>0</td>\n",
              "      <td>0</td>\n",
              "      <td>0</td>\n",
              "      <td>0</td>\n",
              "      <td>0</td>\n",
              "      <td>0</td>\n",
              "      <td>Recuperado</td>\n",
              "    </tr>\n",
              "    <tr>\n",
              "      <th>3</th>\n",
              "      <td>0</td>\n",
              "      <td>0.357143</td>\n",
              "      <td>0.010582</td>\n",
              "      <td>0</td>\n",
              "      <td>0</td>\n",
              "      <td>0</td>\n",
              "      <td>0</td>\n",
              "      <td>0</td>\n",
              "      <td>0</td>\n",
              "      <td>0</td>\n",
              "      <td>...</td>\n",
              "      <td>0</td>\n",
              "      <td>0</td>\n",
              "      <td>0</td>\n",
              "      <td>0</td>\n",
              "      <td>0</td>\n",
              "      <td>0</td>\n",
              "      <td>0</td>\n",
              "      <td>0</td>\n",
              "      <td>0</td>\n",
              "      <td>Recuperado</td>\n",
              "    </tr>\n",
              "    <tr>\n",
              "      <th>4</th>\n",
              "      <td>0</td>\n",
              "      <td>0.339286</td>\n",
              "      <td>0.021164</td>\n",
              "      <td>0</td>\n",
              "      <td>0</td>\n",
              "      <td>0</td>\n",
              "      <td>0</td>\n",
              "      <td>0</td>\n",
              "      <td>0</td>\n",
              "      <td>0</td>\n",
              "      <td>...</td>\n",
              "      <td>0</td>\n",
              "      <td>0</td>\n",
              "      <td>0</td>\n",
              "      <td>0</td>\n",
              "      <td>0</td>\n",
              "      <td>0</td>\n",
              "      <td>0</td>\n",
              "      <td>0</td>\n",
              "      <td>0</td>\n",
              "      <td>Recuperado</td>\n",
              "    </tr>\n",
              "  </tbody>\n",
              "</table>\n",
              "<p>5 rows × 260 columns</p>\n",
              "</div>\n",
              "      <button class=\"colab-df-convert\" onclick=\"convertToInteractive('df-d470788c-44ce-4cd0-b200-840fcdc1d52c')\"\n",
              "              title=\"Convert this dataframe to an interactive table.\"\n",
              "              style=\"display:none;\">\n",
              "        \n",
              "  <svg xmlns=\"http://www.w3.org/2000/svg\" height=\"24px\"viewBox=\"0 0 24 24\"\n",
              "       width=\"24px\">\n",
              "    <path d=\"M0 0h24v24H0V0z\" fill=\"none\"/>\n",
              "    <path d=\"M18.56 5.44l.94 2.06.94-2.06 2.06-.94-2.06-.94-.94-2.06-.94 2.06-2.06.94zm-11 1L8.5 8.5l.94-2.06 2.06-.94-2.06-.94L8.5 2.5l-.94 2.06-2.06.94zm10 10l.94 2.06.94-2.06 2.06-.94-2.06-.94-.94-2.06-.94 2.06-2.06.94z\"/><path d=\"M17.41 7.96l-1.37-1.37c-.4-.4-.92-.59-1.43-.59-.52 0-1.04.2-1.43.59L10.3 9.45l-7.72 7.72c-.78.78-.78 2.05 0 2.83L4 21.41c.39.39.9.59 1.41.59.51 0 1.02-.2 1.41-.59l7.78-7.78 2.81-2.81c.8-.78.8-2.07 0-2.86zM5.41 20L4 18.59l7.72-7.72 1.47 1.35L5.41 20z\"/>\n",
              "  </svg>\n",
              "      </button>\n",
              "      \n",
              "  <style>\n",
              "    .colab-df-container {\n",
              "      display:flex;\n",
              "      flex-wrap:wrap;\n",
              "      gap: 12px;\n",
              "    }\n",
              "\n",
              "    .colab-df-convert {\n",
              "      background-color: #E8F0FE;\n",
              "      border: none;\n",
              "      border-radius: 50%;\n",
              "      cursor: pointer;\n",
              "      display: none;\n",
              "      fill: #1967D2;\n",
              "      height: 32px;\n",
              "      padding: 0 0 0 0;\n",
              "      width: 32px;\n",
              "    }\n",
              "\n",
              "    .colab-df-convert:hover {\n",
              "      background-color: #E2EBFA;\n",
              "      box-shadow: 0px 1px 2px rgba(60, 64, 67, 0.3), 0px 1px 3px 1px rgba(60, 64, 67, 0.15);\n",
              "      fill: #174EA6;\n",
              "    }\n",
              "\n",
              "    [theme=dark] .colab-df-convert {\n",
              "      background-color: #3B4455;\n",
              "      fill: #D2E3FC;\n",
              "    }\n",
              "\n",
              "    [theme=dark] .colab-df-convert:hover {\n",
              "      background-color: #434B5C;\n",
              "      box-shadow: 0px 1px 3px 1px rgba(0, 0, 0, 0.15);\n",
              "      filter: drop-shadow(0px 1px 2px rgba(0, 0, 0, 0.3));\n",
              "      fill: #FFFFFF;\n",
              "    }\n",
              "  </style>\n",
              "\n",
              "      <script>\n",
              "        const buttonEl =\n",
              "          document.querySelector('#df-d470788c-44ce-4cd0-b200-840fcdc1d52c button.colab-df-convert');\n",
              "        buttonEl.style.display =\n",
              "          google.colab.kernel.accessAllowed ? 'block' : 'none';\n",
              "\n",
              "        async function convertToInteractive(key) {\n",
              "          const element = document.querySelector('#df-d470788c-44ce-4cd0-b200-840fcdc1d52c');\n",
              "          const dataTable =\n",
              "            await google.colab.kernel.invokeFunction('convertToInteractive',\n",
              "                                                     [key], {});\n",
              "          if (!dataTable) return;\n",
              "\n",
              "          const docLinkHtml = 'Like what you see? Visit the ' +\n",
              "            '<a target=\"_blank\" href=https://colab.research.google.com/notebooks/data_table.ipynb>data table notebook</a>'\n",
              "            + ' to learn more about interactive tables.';\n",
              "          element.innerHTML = '';\n",
              "          dataTable['output_type'] = 'display_data';\n",
              "          await google.colab.output.renderOutput(dataTable, element);\n",
              "          const docLink = document.createElement('div');\n",
              "          docLink.innerHTML = docLinkHtml;\n",
              "          element.appendChild(docLink);\n",
              "        }\n",
              "      </script>\n",
              "    </div>\n",
              "  </div>\n",
              "  "
            ]
          },
          "metadata": {},
          "execution_count": 36
        }
      ]
    },
    {
      "cell_type": "markdown",
      "source": [
        "guardar los datos en un archivo"
      ],
      "metadata": {
        "id": "qnEdTqEW90Qk"
      }
    },
    {
      "cell_type": "code",
      "source": [
        "'''\n",
        "datasetLimpio.to_csv(URLLimpio, index = False)\n",
        "'''"
      ],
      "metadata": {
        "colab": {
          "base_uri": "https://localhost:8080/",
          "height": 35
        },
        "id": "7KW3R4ad85g3",
        "outputId": "4bd1812b-7bd7-41b9-de76-6c4132dd75e2"
      },
      "execution_count": null,
      "outputs": [
        {
          "output_type": "execute_result",
          "data": {
            "text/plain": [
              "'\\ndatasetLimpio.to_csv(URLLimpio, index = False)\\n'"
            ],
            "application/vnd.google.colaboratory.intrinsic+json": {
              "type": "string"
            }
          },
          "metadata": {},
          "execution_count": 1
        }
      ]
    },
    {
      "cell_type": "markdown",
      "source": [
        "el dataset datosLimpios contiene los datos acondicionados para entrar a un modelo de ml, dado que en el proceso de limpieza anterior no se transformó la columna de recuperado a 0 y 1, se realiza en este paso"
      ],
      "metadata": {
        "id": "i8y97KpbDPYa"
      }
    },
    {
      "cell_type": "code",
      "source": [
        "datosLimpios = pd.read_csv(URLLimpio)\n",
        "mapeoRecuperado = {\"Recuperado\": 1, \"Fallecido\": 0}\n",
        "datosLimpios.Recuperado.replace(mapeoRecuperado, inplace = True)\n",
        "datosLimpios.head()"
      ],
      "metadata": {
        "id": "i6arjoe4AEu-",
        "colab": {
          "base_uri": "https://localhost:8080/",
          "height": 236
        },
        "outputId": "8fd977d6-3394-4e46-fb0d-a12c410cad97"
      },
      "execution_count": null,
      "outputs": [
        {
          "output_type": "execute_result",
          "data": {
            "text/plain": [
              "   Sexo      Edad  tiempoDiagnostico  ABEJORRAL  ABRIAQUI  ALEJANDRIA  AMAGA  \\\n",
              "0     1  0.303571           0.021164          0         0           0      0   \n",
              "1     1  0.178571           0.021164          0         0           0      0   \n",
              "2     1  0.410714           0.010582          0         0           0      0   \n",
              "3     0  0.357143           0.010582          0         0           0      0   \n",
              "4     0  0.339286           0.021164          0         0           0      0   \n",
              "\n",
              "   AMALFI  ANDES  ANGELOPOLIS  ...  VALPARAISO.1  VEGACHI.1  VENECIA.1  \\\n",
              "0       0      0            0  ...             0          0          0   \n",
              "1       0      0            0  ...             0          0          0   \n",
              "2       0      0            0  ...             0          0          0   \n",
              "3       0      0            0  ...             0          0          0   \n",
              "4       0      0            0  ...             0          0          0   \n",
              "\n",
              "   VIGIA DEL FUERTE.1  YALI.1  YARUMAL.1  YOLOMBO.1  YONDO (CASABE).1  \\\n",
              "0                   0       0          0          0                 0   \n",
              "1                   0       0          0          0                 0   \n",
              "2                   0       0          0          0                 0   \n",
              "3                   0       0          0          0                 0   \n",
              "4                   0       0          0          0                 0   \n",
              "\n",
              "   ZARAGOZA.1  Recuperado  \n",
              "0           0           1  \n",
              "1           0           1  \n",
              "2           0           1  \n",
              "3           0           1  \n",
              "4           0           1  \n",
              "\n",
              "[5 rows x 260 columns]"
            ],
            "text/html": [
              "\n",
              "  <div id=\"df-4d8feedb-5edd-4044-b7b0-593b0873d9e2\">\n",
              "    <div class=\"colab-df-container\">\n",
              "      <div>\n",
              "<style scoped>\n",
              "    .dataframe tbody tr th:only-of-type {\n",
              "        vertical-align: middle;\n",
              "    }\n",
              "\n",
              "    .dataframe tbody tr th {\n",
              "        vertical-align: top;\n",
              "    }\n",
              "\n",
              "    .dataframe thead th {\n",
              "        text-align: right;\n",
              "    }\n",
              "</style>\n",
              "<table border=\"1\" class=\"dataframe\">\n",
              "  <thead>\n",
              "    <tr style=\"text-align: right;\">\n",
              "      <th></th>\n",
              "      <th>Sexo</th>\n",
              "      <th>Edad</th>\n",
              "      <th>tiempoDiagnostico</th>\n",
              "      <th>ABEJORRAL</th>\n",
              "      <th>ABRIAQUI</th>\n",
              "      <th>ALEJANDRIA</th>\n",
              "      <th>AMAGA</th>\n",
              "      <th>AMALFI</th>\n",
              "      <th>ANDES</th>\n",
              "      <th>ANGELOPOLIS</th>\n",
              "      <th>...</th>\n",
              "      <th>VALPARAISO.1</th>\n",
              "      <th>VEGACHI.1</th>\n",
              "      <th>VENECIA.1</th>\n",
              "      <th>VIGIA DEL FUERTE.1</th>\n",
              "      <th>YALI.1</th>\n",
              "      <th>YARUMAL.1</th>\n",
              "      <th>YOLOMBO.1</th>\n",
              "      <th>YONDO (CASABE).1</th>\n",
              "      <th>ZARAGOZA.1</th>\n",
              "      <th>Recuperado</th>\n",
              "    </tr>\n",
              "  </thead>\n",
              "  <tbody>\n",
              "    <tr>\n",
              "      <th>0</th>\n",
              "      <td>1</td>\n",
              "      <td>0.303571</td>\n",
              "      <td>0.021164</td>\n",
              "      <td>0</td>\n",
              "      <td>0</td>\n",
              "      <td>0</td>\n",
              "      <td>0</td>\n",
              "      <td>0</td>\n",
              "      <td>0</td>\n",
              "      <td>0</td>\n",
              "      <td>...</td>\n",
              "      <td>0</td>\n",
              "      <td>0</td>\n",
              "      <td>0</td>\n",
              "      <td>0</td>\n",
              "      <td>0</td>\n",
              "      <td>0</td>\n",
              "      <td>0</td>\n",
              "      <td>0</td>\n",
              "      <td>0</td>\n",
              "      <td>1</td>\n",
              "    </tr>\n",
              "    <tr>\n",
              "      <th>1</th>\n",
              "      <td>1</td>\n",
              "      <td>0.178571</td>\n",
              "      <td>0.021164</td>\n",
              "      <td>0</td>\n",
              "      <td>0</td>\n",
              "      <td>0</td>\n",
              "      <td>0</td>\n",
              "      <td>0</td>\n",
              "      <td>0</td>\n",
              "      <td>0</td>\n",
              "      <td>...</td>\n",
              "      <td>0</td>\n",
              "      <td>0</td>\n",
              "      <td>0</td>\n",
              "      <td>0</td>\n",
              "      <td>0</td>\n",
              "      <td>0</td>\n",
              "      <td>0</td>\n",
              "      <td>0</td>\n",
              "      <td>0</td>\n",
              "      <td>1</td>\n",
              "    </tr>\n",
              "    <tr>\n",
              "      <th>2</th>\n",
              "      <td>1</td>\n",
              "      <td>0.410714</td>\n",
              "      <td>0.010582</td>\n",
              "      <td>0</td>\n",
              "      <td>0</td>\n",
              "      <td>0</td>\n",
              "      <td>0</td>\n",
              "      <td>0</td>\n",
              "      <td>0</td>\n",
              "      <td>0</td>\n",
              "      <td>...</td>\n",
              "      <td>0</td>\n",
              "      <td>0</td>\n",
              "      <td>0</td>\n",
              "      <td>0</td>\n",
              "      <td>0</td>\n",
              "      <td>0</td>\n",
              "      <td>0</td>\n",
              "      <td>0</td>\n",
              "      <td>0</td>\n",
              "      <td>1</td>\n",
              "    </tr>\n",
              "    <tr>\n",
              "      <th>3</th>\n",
              "      <td>0</td>\n",
              "      <td>0.357143</td>\n",
              "      <td>0.010582</td>\n",
              "      <td>0</td>\n",
              "      <td>0</td>\n",
              "      <td>0</td>\n",
              "      <td>0</td>\n",
              "      <td>0</td>\n",
              "      <td>0</td>\n",
              "      <td>0</td>\n",
              "      <td>...</td>\n",
              "      <td>0</td>\n",
              "      <td>0</td>\n",
              "      <td>0</td>\n",
              "      <td>0</td>\n",
              "      <td>0</td>\n",
              "      <td>0</td>\n",
              "      <td>0</td>\n",
              "      <td>0</td>\n",
              "      <td>0</td>\n",
              "      <td>1</td>\n",
              "    </tr>\n",
              "    <tr>\n",
              "      <th>4</th>\n",
              "      <td>0</td>\n",
              "      <td>0.339286</td>\n",
              "      <td>0.021164</td>\n",
              "      <td>0</td>\n",
              "      <td>0</td>\n",
              "      <td>0</td>\n",
              "      <td>0</td>\n",
              "      <td>0</td>\n",
              "      <td>0</td>\n",
              "      <td>0</td>\n",
              "      <td>...</td>\n",
              "      <td>0</td>\n",
              "      <td>0</td>\n",
              "      <td>0</td>\n",
              "      <td>0</td>\n",
              "      <td>0</td>\n",
              "      <td>0</td>\n",
              "      <td>0</td>\n",
              "      <td>0</td>\n",
              "      <td>0</td>\n",
              "      <td>1</td>\n",
              "    </tr>\n",
              "  </tbody>\n",
              "</table>\n",
              "<p>5 rows × 260 columns</p>\n",
              "</div>\n",
              "      <button class=\"colab-df-convert\" onclick=\"convertToInteractive('df-4d8feedb-5edd-4044-b7b0-593b0873d9e2')\"\n",
              "              title=\"Convert this dataframe to an interactive table.\"\n",
              "              style=\"display:none;\">\n",
              "        \n",
              "  <svg xmlns=\"http://www.w3.org/2000/svg\" height=\"24px\"viewBox=\"0 0 24 24\"\n",
              "       width=\"24px\">\n",
              "    <path d=\"M0 0h24v24H0V0z\" fill=\"none\"/>\n",
              "    <path d=\"M18.56 5.44l.94 2.06.94-2.06 2.06-.94-2.06-.94-.94-2.06-.94 2.06-2.06.94zm-11 1L8.5 8.5l.94-2.06 2.06-.94-2.06-.94L8.5 2.5l-.94 2.06-2.06.94zm10 10l.94 2.06.94-2.06 2.06-.94-2.06-.94-.94-2.06-.94 2.06-2.06.94z\"/><path d=\"M17.41 7.96l-1.37-1.37c-.4-.4-.92-.59-1.43-.59-.52 0-1.04.2-1.43.59L10.3 9.45l-7.72 7.72c-.78.78-.78 2.05 0 2.83L4 21.41c.39.39.9.59 1.41.59.51 0 1.02-.2 1.41-.59l7.78-7.78 2.81-2.81c.8-.78.8-2.07 0-2.86zM5.41 20L4 18.59l7.72-7.72 1.47 1.35L5.41 20z\"/>\n",
              "  </svg>\n",
              "      </button>\n",
              "      \n",
              "  <style>\n",
              "    .colab-df-container {\n",
              "      display:flex;\n",
              "      flex-wrap:wrap;\n",
              "      gap: 12px;\n",
              "    }\n",
              "\n",
              "    .colab-df-convert {\n",
              "      background-color: #E8F0FE;\n",
              "      border: none;\n",
              "      border-radius: 50%;\n",
              "      cursor: pointer;\n",
              "      display: none;\n",
              "      fill: #1967D2;\n",
              "      height: 32px;\n",
              "      padding: 0 0 0 0;\n",
              "      width: 32px;\n",
              "    }\n",
              "\n",
              "    .colab-df-convert:hover {\n",
              "      background-color: #E2EBFA;\n",
              "      box-shadow: 0px 1px 2px rgba(60, 64, 67, 0.3), 0px 1px 3px 1px rgba(60, 64, 67, 0.15);\n",
              "      fill: #174EA6;\n",
              "    }\n",
              "\n",
              "    [theme=dark] .colab-df-convert {\n",
              "      background-color: #3B4455;\n",
              "      fill: #D2E3FC;\n",
              "    }\n",
              "\n",
              "    [theme=dark] .colab-df-convert:hover {\n",
              "      background-color: #434B5C;\n",
              "      box-shadow: 0px 1px 3px 1px rgba(0, 0, 0, 0.15);\n",
              "      filter: drop-shadow(0px 1px 2px rgba(0, 0, 0, 0.3));\n",
              "      fill: #FFFFFF;\n",
              "    }\n",
              "  </style>\n",
              "\n",
              "      <script>\n",
              "        const buttonEl =\n",
              "          document.querySelector('#df-4d8feedb-5edd-4044-b7b0-593b0873d9e2 button.colab-df-convert');\n",
              "        buttonEl.style.display =\n",
              "          google.colab.kernel.accessAllowed ? 'block' : 'none';\n",
              "\n",
              "        async function convertToInteractive(key) {\n",
              "          const element = document.querySelector('#df-4d8feedb-5edd-4044-b7b0-593b0873d9e2');\n",
              "          const dataTable =\n",
              "            await google.colab.kernel.invokeFunction('convertToInteractive',\n",
              "                                                     [key], {});\n",
              "          if (!dataTable) return;\n",
              "\n",
              "          const docLinkHtml = 'Like what you see? Visit the ' +\n",
              "            '<a target=\"_blank\" href=https://colab.research.google.com/notebooks/data_table.ipynb>data table notebook</a>'\n",
              "            + ' to learn more about interactive tables.';\n",
              "          element.innerHTML = '';\n",
              "          dataTable['output_type'] = 'display_data';\n",
              "          await google.colab.output.renderOutput(dataTable, element);\n",
              "          const docLink = document.createElement('div');\n",
              "          docLink.innerHTML = docLinkHtml;\n",
              "          element.appendChild(docLink);\n",
              "        }\n",
              "      </script>\n",
              "    </div>\n",
              "  </div>\n",
              "  "
            ]
          },
          "metadata": {},
          "execution_count": 6
        }
      ]
    },
    {
      "cell_type": "markdown",
      "source": [
        "extracción de las columnas de predicción y del target"
      ],
      "metadata": {
        "id": "FWkwy1Yq2t4C"
      }
    },
    {
      "cell_type": "code",
      "source": [
        "features = datosLimpios.iloc[:, :-1].values\n",
        "target = datosLimpios.iloc[:, -1].values.reshape(-1, 1)\n",
        "del datosLimpios"
      ],
      "metadata": {
        "id": "VbkhSztNA5F6"
      },
      "execution_count": null,
      "outputs": []
    },
    {
      "cell_type": "code",
      "source": [
        "from sklearn.model_selection import train_test_split\n",
        "from sklearn.model_selection import GridSearchCV\n",
        "from sklearn.ensemble import RandomForestClassifier\n",
        "from xgboost import XGBClassifier"
      ],
      "metadata": {
        "id": "omICFehSdobI"
      },
      "execution_count": null,
      "outputs": []
    },
    {
      "cell_type": "markdown",
      "source": [
        "división del dataset en datos de entrenamiento y datos de prueba"
      ],
      "metadata": {
        "id": "qWfoZ8Kb2yTu"
      }
    },
    {
      "cell_type": "code",
      "source": [
        "X_train, X_test, Y_train, Y_test = train_test_split(features, target, test_size = 0.2, random_state = 500)\n",
        "del features\n",
        "del target"
      ],
      "metadata": {
        "id": "coNG0W4Tbfmt"
      },
      "execution_count": null,
      "outputs": []
    },
    {
      "cell_type": "code",
      "source": [
        "'''definicion de los hiper parametros para tunear los modelos'''\n",
        "hpRandomforest = {\n",
        "    'n_estimators': [10, 20, 50],\n",
        "    'max_depth': [1, 5]\n",
        "    }\n",
        "hpXGBoost = {\n",
        "    'n_estimators': [10, 20],\n",
        "    'max_depth': [1, 5],\n",
        "    'learning_rate': [0.1, 1]\n",
        "    }\n",
        "'''construccion de los clasificadores'''\n",
        "randomForest = RandomForestClassifier()\n",
        "xgb = XGBClassifier(random_state = 500)"
      ],
      "metadata": {
        "id": "VKv_Z5uoaqFZ"
      },
      "execution_count": null,
      "outputs": []
    },
    {
      "cell_type": "markdown",
      "source": [
        "grid search del modelo random forest"
      ],
      "metadata": {
        "id": "eMcsOdxm26VX"
      }
    },
    {
      "cell_type": "code",
      "source": [
        "GSrandomForest = GridSearchCV(\n",
        "    estimator = randomForest,\n",
        "    param_grid = hpRandomforest,\n",
        "    scoring = ['roc_auc'],\n",
        "    refit = 'roc_auc',\n",
        "    cv = 4,\n",
        "    verbose= 4\n",
        ")"
      ],
      "metadata": {
        "id": "jeQq3sr0aaW6"
      },
      "execution_count": null,
      "outputs": []
    },
    {
      "cell_type": "markdown",
      "source": [
        "grid search del modelo xgboost"
      ],
      "metadata": {
        "id": "nHMZ9Kdy293V"
      }
    },
    {
      "cell_type": "code",
      "source": [
        "GSxgb = GridSearchCV(\n",
        "    estimator = xgb,\n",
        "    param_grid = hpXGBoost,\n",
        "    scoring = ['roc_auc'],\n",
        "    refit = 'roc_auc',\n",
        "    cv = 4,\n",
        "    verbose= 4\n",
        "\n",
        ")"
      ],
      "metadata": {
        "id": "fD-u92ofaeBe"
      },
      "execution_count": null,
      "outputs": []
    },
    {
      "cell_type": "code",
      "source": [
        "GSrandomForest.fit(X_train, Y_train)"
      ],
      "metadata": {
        "colab": {
          "base_uri": "https://localhost:8080/"
        },
        "id": "ULHmA_zQ1LOs",
        "outputId": "01fe3e06-b624-4e5c-b182-7e57eca85935"
      },
      "execution_count": null,
      "outputs": [
        {
          "output_type": "stream",
          "name": "stdout",
          "text": [
            "Fitting 4 folds for each of 6 candidates, totalling 24 fits\n"
          ]
        },
        {
          "output_type": "stream",
          "name": "stderr",
          "text": [
            "/usr/local/lib/python3.7/dist-packages/sklearn/model_selection/_validation.py:680: DataConversionWarning: A column-vector y was passed when a 1d array was expected. Please change the shape of y to (n_samples,), for example using ravel().\n",
            "  estimator.fit(X_train, y_train, **fit_params)\n"
          ]
        },
        {
          "output_type": "stream",
          "name": "stdout",
          "text": [
            "[CV 1/4] END max_depth=1, n_estimators=10; roc_auc: (test=0.806) total time=   3.3s\n"
          ]
        },
        {
          "output_type": "stream",
          "name": "stderr",
          "text": [
            "/usr/local/lib/python3.7/dist-packages/sklearn/model_selection/_validation.py:680: DataConversionWarning: A column-vector y was passed when a 1d array was expected. Please change the shape of y to (n_samples,), for example using ravel().\n",
            "  estimator.fit(X_train, y_train, **fit_params)\n"
          ]
        },
        {
          "output_type": "stream",
          "name": "stdout",
          "text": [
            "[CV 2/4] END max_depth=1, n_estimators=10; roc_auc: (test=0.510) total time=   2.7s\n"
          ]
        },
        {
          "output_type": "stream",
          "name": "stderr",
          "text": [
            "/usr/local/lib/python3.7/dist-packages/sklearn/model_selection/_validation.py:680: DataConversionWarning: A column-vector y was passed when a 1d array was expected. Please change the shape of y to (n_samples,), for example using ravel().\n",
            "  estimator.fit(X_train, y_train, **fit_params)\n"
          ]
        },
        {
          "output_type": "stream",
          "name": "stdout",
          "text": [
            "[CV 3/4] END max_depth=1, n_estimators=10; roc_auc: (test=0.569) total time=   2.7s\n"
          ]
        },
        {
          "output_type": "stream",
          "name": "stderr",
          "text": [
            "/usr/local/lib/python3.7/dist-packages/sklearn/model_selection/_validation.py:680: DataConversionWarning: A column-vector y was passed when a 1d array was expected. Please change the shape of y to (n_samples,), for example using ravel().\n",
            "  estimator.fit(X_train, y_train, **fit_params)\n"
          ]
        },
        {
          "output_type": "stream",
          "name": "stdout",
          "text": [
            "[CV 4/4] END max_depth=1, n_estimators=10; roc_auc: (test=0.769) total time=   2.7s\n"
          ]
        },
        {
          "output_type": "stream",
          "name": "stderr",
          "text": [
            "/usr/local/lib/python3.7/dist-packages/sklearn/model_selection/_validation.py:680: DataConversionWarning: A column-vector y was passed when a 1d array was expected. Please change the shape of y to (n_samples,), for example using ravel().\n",
            "  estimator.fit(X_train, y_train, **fit_params)\n"
          ]
        },
        {
          "output_type": "stream",
          "name": "stdout",
          "text": [
            "[CV 1/4] END max_depth=1, n_estimators=20; roc_auc: (test=0.804) total time=   4.7s\n"
          ]
        },
        {
          "output_type": "stream",
          "name": "stderr",
          "text": [
            "/usr/local/lib/python3.7/dist-packages/sklearn/model_selection/_validation.py:680: DataConversionWarning: A column-vector y was passed when a 1d array was expected. Please change the shape of y to (n_samples,), for example using ravel().\n",
            "  estimator.fit(X_train, y_train, **fit_params)\n"
          ]
        },
        {
          "output_type": "stream",
          "name": "stdout",
          "text": [
            "[CV 2/4] END max_depth=1, n_estimators=20; roc_auc: (test=0.582) total time=   4.5s\n"
          ]
        },
        {
          "output_type": "stream",
          "name": "stderr",
          "text": [
            "/usr/local/lib/python3.7/dist-packages/sklearn/model_selection/_validation.py:680: DataConversionWarning: A column-vector y was passed when a 1d array was expected. Please change the shape of y to (n_samples,), for example using ravel().\n",
            "  estimator.fit(X_train, y_train, **fit_params)\n"
          ]
        },
        {
          "output_type": "stream",
          "name": "stdout",
          "text": [
            "[CV 3/4] END max_depth=1, n_estimators=20; roc_auc: (test=0.578) total time=   4.5s\n"
          ]
        },
        {
          "output_type": "stream",
          "name": "stderr",
          "text": [
            "/usr/local/lib/python3.7/dist-packages/sklearn/model_selection/_validation.py:680: DataConversionWarning: A column-vector y was passed when a 1d array was expected. Please change the shape of y to (n_samples,), for example using ravel().\n",
            "  estimator.fit(X_train, y_train, **fit_params)\n"
          ]
        },
        {
          "output_type": "stream",
          "name": "stdout",
          "text": [
            "[CV 4/4] END max_depth=1, n_estimators=20; roc_auc: (test=0.577) total time=   4.5s\n"
          ]
        },
        {
          "output_type": "stream",
          "name": "stderr",
          "text": [
            "/usr/local/lib/python3.7/dist-packages/sklearn/model_selection/_validation.py:680: DataConversionWarning: A column-vector y was passed when a 1d array was expected. Please change the shape of y to (n_samples,), for example using ravel().\n",
            "  estimator.fit(X_train, y_train, **fit_params)\n"
          ]
        },
        {
          "output_type": "stream",
          "name": "stdout",
          "text": [
            "[CV 1/4] END max_depth=1, n_estimators=50; roc_auc: (test=0.806) total time=  10.1s\n"
          ]
        },
        {
          "output_type": "stream",
          "name": "stderr",
          "text": [
            "/usr/local/lib/python3.7/dist-packages/sklearn/model_selection/_validation.py:680: DataConversionWarning: A column-vector y was passed when a 1d array was expected. Please change the shape of y to (n_samples,), for example using ravel().\n",
            "  estimator.fit(X_train, y_train, **fit_params)\n"
          ]
        },
        {
          "output_type": "stream",
          "name": "stdout",
          "text": [
            "[CV 2/4] END max_depth=1, n_estimators=50; roc_auc: (test=0.814) total time=  10.1s\n"
          ]
        },
        {
          "output_type": "stream",
          "name": "stderr",
          "text": [
            "/usr/local/lib/python3.7/dist-packages/sklearn/model_selection/_validation.py:680: DataConversionWarning: A column-vector y was passed when a 1d array was expected. Please change the shape of y to (n_samples,), for example using ravel().\n",
            "  estimator.fit(X_train, y_train, **fit_params)\n"
          ]
        },
        {
          "output_type": "stream",
          "name": "stdout",
          "text": [
            "[CV 3/4] END max_depth=1, n_estimators=50; roc_auc: (test=0.764) total time=  10.0s\n"
          ]
        },
        {
          "output_type": "stream",
          "name": "stderr",
          "text": [
            "/usr/local/lib/python3.7/dist-packages/sklearn/model_selection/_validation.py:680: DataConversionWarning: A column-vector y was passed when a 1d array was expected. Please change the shape of y to (n_samples,), for example using ravel().\n",
            "  estimator.fit(X_train, y_train, **fit_params)\n"
          ]
        },
        {
          "output_type": "stream",
          "name": "stdout",
          "text": [
            "[CV 4/4] END max_depth=1, n_estimators=50; roc_auc: (test=0.800) total time=  10.1s\n"
          ]
        },
        {
          "output_type": "stream",
          "name": "stderr",
          "text": [
            "/usr/local/lib/python3.7/dist-packages/sklearn/model_selection/_validation.py:680: DataConversionWarning: A column-vector y was passed when a 1d array was expected. Please change the shape of y to (n_samples,), for example using ravel().\n",
            "  estimator.fit(X_train, y_train, **fit_params)\n"
          ]
        },
        {
          "output_type": "stream",
          "name": "stdout",
          "text": [
            "[CV 1/4] END max_depth=5, n_estimators=10; roc_auc: (test=0.778) total time=   7.0s\n"
          ]
        },
        {
          "output_type": "stream",
          "name": "stderr",
          "text": [
            "/usr/local/lib/python3.7/dist-packages/sklearn/model_selection/_validation.py:680: DataConversionWarning: A column-vector y was passed when a 1d array was expected. Please change the shape of y to (n_samples,), for example using ravel().\n",
            "  estimator.fit(X_train, y_train, **fit_params)\n"
          ]
        },
        {
          "output_type": "stream",
          "name": "stdout",
          "text": [
            "[CV 2/4] END max_depth=5, n_estimators=10; roc_auc: (test=0.869) total time=   7.8s\n"
          ]
        },
        {
          "output_type": "stream",
          "name": "stderr",
          "text": [
            "/usr/local/lib/python3.7/dist-packages/sklearn/model_selection/_validation.py:680: DataConversionWarning: A column-vector y was passed when a 1d array was expected. Please change the shape of y to (n_samples,), for example using ravel().\n",
            "  estimator.fit(X_train, y_train, **fit_params)\n"
          ]
        },
        {
          "output_type": "stream",
          "name": "stdout",
          "text": [
            "[CV 3/4] END max_depth=5, n_estimators=10; roc_auc: (test=0.785) total time=   7.4s\n"
          ]
        },
        {
          "output_type": "stream",
          "name": "stderr",
          "text": [
            "/usr/local/lib/python3.7/dist-packages/sklearn/model_selection/_validation.py:680: DataConversionWarning: A column-vector y was passed when a 1d array was expected. Please change the shape of y to (n_samples,), for example using ravel().\n",
            "  estimator.fit(X_train, y_train, **fit_params)\n"
          ]
        },
        {
          "output_type": "stream",
          "name": "stdout",
          "text": [
            "[CV 4/4] END max_depth=5, n_estimators=10; roc_auc: (test=0.803) total time=   7.4s\n"
          ]
        },
        {
          "output_type": "stream",
          "name": "stderr",
          "text": [
            "/usr/local/lib/python3.7/dist-packages/sklearn/model_selection/_validation.py:680: DataConversionWarning: A column-vector y was passed when a 1d array was expected. Please change the shape of y to (n_samples,), for example using ravel().\n",
            "  estimator.fit(X_train, y_train, **fit_params)\n"
          ]
        },
        {
          "output_type": "stream",
          "name": "stdout",
          "text": [
            "[CV 1/4] END max_depth=5, n_estimators=20; roc_auc: (test=0.823) total time=  14.6s\n"
          ]
        },
        {
          "output_type": "stream",
          "name": "stderr",
          "text": [
            "/usr/local/lib/python3.7/dist-packages/sklearn/model_selection/_validation.py:680: DataConversionWarning: A column-vector y was passed when a 1d array was expected. Please change the shape of y to (n_samples,), for example using ravel().\n",
            "  estimator.fit(X_train, y_train, **fit_params)\n"
          ]
        },
        {
          "output_type": "stream",
          "name": "stdout",
          "text": [
            "[CV 2/4] END max_depth=5, n_estimators=20; roc_auc: (test=0.832) total time=  13.9s\n"
          ]
        },
        {
          "output_type": "stream",
          "name": "stderr",
          "text": [
            "/usr/local/lib/python3.7/dist-packages/sklearn/model_selection/_validation.py:680: DataConversionWarning: A column-vector y was passed when a 1d array was expected. Please change the shape of y to (n_samples,), for example using ravel().\n",
            "  estimator.fit(X_train, y_train, **fit_params)\n"
          ]
        },
        {
          "output_type": "stream",
          "name": "stdout",
          "text": [
            "[CV 3/4] END max_depth=5, n_estimators=20; roc_auc: (test=0.829) total time=  13.2s\n"
          ]
        },
        {
          "output_type": "stream",
          "name": "stderr",
          "text": [
            "/usr/local/lib/python3.7/dist-packages/sklearn/model_selection/_validation.py:680: DataConversionWarning: A column-vector y was passed when a 1d array was expected. Please change the shape of y to (n_samples,), for example using ravel().\n",
            "  estimator.fit(X_train, y_train, **fit_params)\n"
          ]
        },
        {
          "output_type": "stream",
          "name": "stdout",
          "text": [
            "[CV 4/4] END max_depth=5, n_estimators=20; roc_auc: (test=0.834) total time=  13.6s\n"
          ]
        },
        {
          "output_type": "stream",
          "name": "stderr",
          "text": [
            "/usr/local/lib/python3.7/dist-packages/sklearn/model_selection/_validation.py:680: DataConversionWarning: A column-vector y was passed when a 1d array was expected. Please change the shape of y to (n_samples,), for example using ravel().\n",
            "  estimator.fit(X_train, y_train, **fit_params)\n"
          ]
        },
        {
          "output_type": "stream",
          "name": "stdout",
          "text": [
            "[CV 1/4] END max_depth=5, n_estimators=50; roc_auc: (test=0.868) total time=  32.7s\n"
          ]
        },
        {
          "output_type": "stream",
          "name": "stderr",
          "text": [
            "/usr/local/lib/python3.7/dist-packages/sklearn/model_selection/_validation.py:680: DataConversionWarning: A column-vector y was passed when a 1d array was expected. Please change the shape of y to (n_samples,), for example using ravel().\n",
            "  estimator.fit(X_train, y_train, **fit_params)\n"
          ]
        },
        {
          "output_type": "stream",
          "name": "stdout",
          "text": [
            "[CV 2/4] END max_depth=5, n_estimators=50; roc_auc: (test=0.841) total time=  32.2s\n"
          ]
        },
        {
          "output_type": "stream",
          "name": "stderr",
          "text": [
            "/usr/local/lib/python3.7/dist-packages/sklearn/model_selection/_validation.py:680: DataConversionWarning: A column-vector y was passed when a 1d array was expected. Please change the shape of y to (n_samples,), for example using ravel().\n",
            "  estimator.fit(X_train, y_train, **fit_params)\n"
          ]
        },
        {
          "output_type": "stream",
          "name": "stdout",
          "text": [
            "[CV 3/4] END max_depth=5, n_estimators=50; roc_auc: (test=0.847) total time=  32.1s\n"
          ]
        },
        {
          "output_type": "stream",
          "name": "stderr",
          "text": [
            "/usr/local/lib/python3.7/dist-packages/sklearn/model_selection/_validation.py:680: DataConversionWarning: A column-vector y was passed when a 1d array was expected. Please change the shape of y to (n_samples,), for example using ravel().\n",
            "  estimator.fit(X_train, y_train, **fit_params)\n"
          ]
        },
        {
          "output_type": "stream",
          "name": "stdout",
          "text": [
            "[CV 4/4] END max_depth=5, n_estimators=50; roc_auc: (test=0.865) total time=  32.8s\n"
          ]
        },
        {
          "output_type": "stream",
          "name": "stderr",
          "text": [
            "/usr/local/lib/python3.7/dist-packages/sklearn/model_selection/_search.py:926: DataConversionWarning: A column-vector y was passed when a 1d array was expected. Please change the shape of y to (n_samples,), for example using ravel().\n",
            "  self.best_estimator_.fit(X, y, **fit_params)\n"
          ]
        },
        {
          "output_type": "execute_result",
          "data": {
            "text/plain": [
              "GridSearchCV(cv=4, estimator=RandomForestClassifier(),\n",
              "             param_grid={'max_depth': [1, 5], 'n_estimators': [10, 20, 50]},\n",
              "             refit='roc_auc', scoring=['roc_auc'], verbose=4)"
            ]
          },
          "metadata": {},
          "execution_count": 17
        }
      ]
    },
    {
      "cell_type": "code",
      "source": [
        "GSxgb.fit(X_train, Y_train)"
      ],
      "metadata": {
        "colab": {
          "base_uri": "https://localhost:8080/"
        },
        "id": "CAAoyVD5to3k",
        "outputId": "79a77274-febd-4467-ea11-a4063d54dc30"
      },
      "execution_count": null,
      "outputs": [
        {
          "output_type": "stream",
          "name": "stdout",
          "text": [
            "Fitting 4 folds for each of 8 candidates, totalling 32 fits\n"
          ]
        },
        {
          "output_type": "stream",
          "name": "stderr",
          "text": [
            "/usr/local/lib/python3.7/dist-packages/sklearn/preprocessing/_label.py:98: DataConversionWarning: A column-vector y was passed when a 1d array was expected. Please change the shape of y to (n_samples, ), for example using ravel().\n",
            "  y = column_or_1d(y, warn=True)\n",
            "/usr/local/lib/python3.7/dist-packages/sklearn/preprocessing/_label.py:133: DataConversionWarning: A column-vector y was passed when a 1d array was expected. Please change the shape of y to (n_samples, ), for example using ravel().\n",
            "  y = column_or_1d(y, warn=True)\n"
          ]
        },
        {
          "output_type": "stream",
          "name": "stdout",
          "text": [
            "[CV 1/4] END learning_rate=0.1, max_depth=1, n_estimators=10; roc_auc: (test=0.817) total time=  24.8s\n"
          ]
        },
        {
          "output_type": "stream",
          "name": "stderr",
          "text": [
            "/usr/local/lib/python3.7/dist-packages/sklearn/preprocessing/_label.py:98: DataConversionWarning: A column-vector y was passed when a 1d array was expected. Please change the shape of y to (n_samples, ), for example using ravel().\n",
            "  y = column_or_1d(y, warn=True)\n",
            "/usr/local/lib/python3.7/dist-packages/sklearn/preprocessing/_label.py:133: DataConversionWarning: A column-vector y was passed when a 1d array was expected. Please change the shape of y to (n_samples, ), for example using ravel().\n",
            "  y = column_or_1d(y, warn=True)\n"
          ]
        },
        {
          "output_type": "stream",
          "name": "stdout",
          "text": [
            "[CV 2/4] END learning_rate=0.1, max_depth=1, n_estimators=10; roc_auc: (test=0.822) total time=  23.8s\n"
          ]
        },
        {
          "output_type": "stream",
          "name": "stderr",
          "text": [
            "/usr/local/lib/python3.7/dist-packages/sklearn/preprocessing/_label.py:98: DataConversionWarning: A column-vector y was passed when a 1d array was expected. Please change the shape of y to (n_samples, ), for example using ravel().\n",
            "  y = column_or_1d(y, warn=True)\n",
            "/usr/local/lib/python3.7/dist-packages/sklearn/preprocessing/_label.py:133: DataConversionWarning: A column-vector y was passed when a 1d array was expected. Please change the shape of y to (n_samples, ), for example using ravel().\n",
            "  y = column_or_1d(y, warn=True)\n"
          ]
        },
        {
          "output_type": "stream",
          "name": "stdout",
          "text": [
            "[CV 3/4] END learning_rate=0.1, max_depth=1, n_estimators=10; roc_auc: (test=0.822) total time=  25.9s\n"
          ]
        },
        {
          "output_type": "stream",
          "name": "stderr",
          "text": [
            "/usr/local/lib/python3.7/dist-packages/sklearn/preprocessing/_label.py:98: DataConversionWarning: A column-vector y was passed when a 1d array was expected. Please change the shape of y to (n_samples, ), for example using ravel().\n",
            "  y = column_or_1d(y, warn=True)\n",
            "/usr/local/lib/python3.7/dist-packages/sklearn/preprocessing/_label.py:133: DataConversionWarning: A column-vector y was passed when a 1d array was expected. Please change the shape of y to (n_samples, ), for example using ravel().\n",
            "  y = column_or_1d(y, warn=True)\n"
          ]
        },
        {
          "output_type": "stream",
          "name": "stdout",
          "text": [
            "[CV 4/4] END learning_rate=0.1, max_depth=1, n_estimators=10; roc_auc: (test=0.816) total time=  25.3s\n"
          ]
        },
        {
          "output_type": "stream",
          "name": "stderr",
          "text": [
            "/usr/local/lib/python3.7/dist-packages/sklearn/preprocessing/_label.py:98: DataConversionWarning: A column-vector y was passed when a 1d array was expected. Please change the shape of y to (n_samples, ), for example using ravel().\n",
            "  y = column_or_1d(y, warn=True)\n",
            "/usr/local/lib/python3.7/dist-packages/sklearn/preprocessing/_label.py:133: DataConversionWarning: A column-vector y was passed when a 1d array was expected. Please change the shape of y to (n_samples, ), for example using ravel().\n",
            "  y = column_or_1d(y, warn=True)\n"
          ]
        },
        {
          "output_type": "stream",
          "name": "stdout",
          "text": [
            "[CV 1/4] END learning_rate=0.1, max_depth=1, n_estimators=20; roc_auc: (test=0.845) total time=  37.0s\n"
          ]
        },
        {
          "output_type": "stream",
          "name": "stderr",
          "text": [
            "/usr/local/lib/python3.7/dist-packages/sklearn/preprocessing/_label.py:98: DataConversionWarning: A column-vector y was passed when a 1d array was expected. Please change the shape of y to (n_samples, ), for example using ravel().\n",
            "  y = column_or_1d(y, warn=True)\n",
            "/usr/local/lib/python3.7/dist-packages/sklearn/preprocessing/_label.py:133: DataConversionWarning: A column-vector y was passed when a 1d array was expected. Please change the shape of y to (n_samples, ), for example using ravel().\n",
            "  y = column_or_1d(y, warn=True)\n"
          ]
        },
        {
          "output_type": "stream",
          "name": "stdout",
          "text": [
            "[CV 2/4] END learning_rate=0.1, max_depth=1, n_estimators=20; roc_auc: (test=0.849) total time=  36.3s\n"
          ]
        },
        {
          "output_type": "stream",
          "name": "stderr",
          "text": [
            "/usr/local/lib/python3.7/dist-packages/sklearn/preprocessing/_label.py:98: DataConversionWarning: A column-vector y was passed when a 1d array was expected. Please change the shape of y to (n_samples, ), for example using ravel().\n",
            "  y = column_or_1d(y, warn=True)\n",
            "/usr/local/lib/python3.7/dist-packages/sklearn/preprocessing/_label.py:133: DataConversionWarning: A column-vector y was passed when a 1d array was expected. Please change the shape of y to (n_samples, ), for example using ravel().\n",
            "  y = column_or_1d(y, warn=True)\n"
          ]
        },
        {
          "output_type": "stream",
          "name": "stdout",
          "text": [
            "[CV 3/4] END learning_rate=0.1, max_depth=1, n_estimators=20; roc_auc: (test=0.850) total time=  36.5s\n"
          ]
        },
        {
          "output_type": "stream",
          "name": "stderr",
          "text": [
            "/usr/local/lib/python3.7/dist-packages/sklearn/preprocessing/_label.py:98: DataConversionWarning: A column-vector y was passed when a 1d array was expected. Please change the shape of y to (n_samples, ), for example using ravel().\n",
            "  y = column_or_1d(y, warn=True)\n",
            "/usr/local/lib/python3.7/dist-packages/sklearn/preprocessing/_label.py:133: DataConversionWarning: A column-vector y was passed when a 1d array was expected. Please change the shape of y to (n_samples, ), for example using ravel().\n",
            "  y = column_or_1d(y, warn=True)\n"
          ]
        },
        {
          "output_type": "stream",
          "name": "stdout",
          "text": [
            "[CV 4/4] END learning_rate=0.1, max_depth=1, n_estimators=20; roc_auc: (test=0.843) total time=  40.8s\n"
          ]
        },
        {
          "output_type": "stream",
          "name": "stderr",
          "text": [
            "/usr/local/lib/python3.7/dist-packages/sklearn/preprocessing/_label.py:98: DataConversionWarning: A column-vector y was passed when a 1d array was expected. Please change the shape of y to (n_samples, ), for example using ravel().\n",
            "  y = column_or_1d(y, warn=True)\n",
            "/usr/local/lib/python3.7/dist-packages/sklearn/preprocessing/_label.py:133: DataConversionWarning: A column-vector y was passed when a 1d array was expected. Please change the shape of y to (n_samples, ), for example using ravel().\n",
            "  y = column_or_1d(y, warn=True)\n"
          ]
        },
        {
          "output_type": "stream",
          "name": "stdout",
          "text": [
            "[CV 1/4] END learning_rate=0.1, max_depth=5, n_estimators=10; roc_auc: (test=0.903) total time=  53.3s\n"
          ]
        },
        {
          "output_type": "stream",
          "name": "stderr",
          "text": [
            "/usr/local/lib/python3.7/dist-packages/sklearn/preprocessing/_label.py:98: DataConversionWarning: A column-vector y was passed when a 1d array was expected. Please change the shape of y to (n_samples, ), for example using ravel().\n",
            "  y = column_or_1d(y, warn=True)\n",
            "/usr/local/lib/python3.7/dist-packages/sklearn/preprocessing/_label.py:133: DataConversionWarning: A column-vector y was passed when a 1d array was expected. Please change the shape of y to (n_samples, ), for example using ravel().\n",
            "  y = column_or_1d(y, warn=True)\n"
          ]
        },
        {
          "output_type": "stream",
          "name": "stdout",
          "text": [
            "[CV 2/4] END learning_rate=0.1, max_depth=5, n_estimators=10; roc_auc: (test=0.904) total time=  52.1s\n"
          ]
        },
        {
          "output_type": "stream",
          "name": "stderr",
          "text": [
            "/usr/local/lib/python3.7/dist-packages/sklearn/preprocessing/_label.py:98: DataConversionWarning: A column-vector y was passed when a 1d array was expected. Please change the shape of y to (n_samples, ), for example using ravel().\n",
            "  y = column_or_1d(y, warn=True)\n",
            "/usr/local/lib/python3.7/dist-packages/sklearn/preprocessing/_label.py:133: DataConversionWarning: A column-vector y was passed when a 1d array was expected. Please change the shape of y to (n_samples, ), for example using ravel().\n",
            "  y = column_or_1d(y, warn=True)\n"
          ]
        },
        {
          "output_type": "stream",
          "name": "stdout",
          "text": [
            "[CV 3/4] END learning_rate=0.1, max_depth=5, n_estimators=10; roc_auc: (test=0.900) total time= 1.1min\n"
          ]
        },
        {
          "output_type": "stream",
          "name": "stderr",
          "text": [
            "/usr/local/lib/python3.7/dist-packages/sklearn/preprocessing/_label.py:98: DataConversionWarning: A column-vector y was passed when a 1d array was expected. Please change the shape of y to (n_samples, ), for example using ravel().\n",
            "  y = column_or_1d(y, warn=True)\n",
            "/usr/local/lib/python3.7/dist-packages/sklearn/preprocessing/_label.py:133: DataConversionWarning: A column-vector y was passed when a 1d array was expected. Please change the shape of y to (n_samples, ), for example using ravel().\n",
            "  y = column_or_1d(y, warn=True)\n"
          ]
        },
        {
          "output_type": "stream",
          "name": "stdout",
          "text": [
            "[CV 4/4] END learning_rate=0.1, max_depth=5, n_estimators=10; roc_auc: (test=0.898) total time=  52.7s\n"
          ]
        },
        {
          "output_type": "stream",
          "name": "stderr",
          "text": [
            "/usr/local/lib/python3.7/dist-packages/sklearn/preprocessing/_label.py:98: DataConversionWarning: A column-vector y was passed when a 1d array was expected. Please change the shape of y to (n_samples, ), for example using ravel().\n",
            "  y = column_or_1d(y, warn=True)\n",
            "/usr/local/lib/python3.7/dist-packages/sklearn/preprocessing/_label.py:133: DataConversionWarning: A column-vector y was passed when a 1d array was expected. Please change the shape of y to (n_samples, ), for example using ravel().\n",
            "  y = column_or_1d(y, warn=True)\n"
          ]
        },
        {
          "output_type": "stream",
          "name": "stdout",
          "text": [
            "[CV 1/4] END learning_rate=0.1, max_depth=5, n_estimators=20; roc_auc: (test=0.904) total time= 1.6min\n"
          ]
        },
        {
          "output_type": "stream",
          "name": "stderr",
          "text": [
            "/usr/local/lib/python3.7/dist-packages/sklearn/preprocessing/_label.py:98: DataConversionWarning: A column-vector y was passed when a 1d array was expected. Please change the shape of y to (n_samples, ), for example using ravel().\n",
            "  y = column_or_1d(y, warn=True)\n",
            "/usr/local/lib/python3.7/dist-packages/sklearn/preprocessing/_label.py:133: DataConversionWarning: A column-vector y was passed when a 1d array was expected. Please change the shape of y to (n_samples, ), for example using ravel().\n",
            "  y = column_or_1d(y, warn=True)\n"
          ]
        },
        {
          "output_type": "stream",
          "name": "stdout",
          "text": [
            "[CV 2/4] END learning_rate=0.1, max_depth=5, n_estimators=20; roc_auc: (test=0.906) total time= 1.6min\n"
          ]
        },
        {
          "output_type": "stream",
          "name": "stderr",
          "text": [
            "/usr/local/lib/python3.7/dist-packages/sklearn/preprocessing/_label.py:98: DataConversionWarning: A column-vector y was passed when a 1d array was expected. Please change the shape of y to (n_samples, ), for example using ravel().\n",
            "  y = column_or_1d(y, warn=True)\n",
            "/usr/local/lib/python3.7/dist-packages/sklearn/preprocessing/_label.py:133: DataConversionWarning: A column-vector y was passed when a 1d array was expected. Please change the shape of y to (n_samples, ), for example using ravel().\n",
            "  y = column_or_1d(y, warn=True)\n"
          ]
        },
        {
          "output_type": "stream",
          "name": "stdout",
          "text": [
            "[CV 3/4] END learning_rate=0.1, max_depth=5, n_estimators=20; roc_auc: (test=0.902) total time= 1.6min\n"
          ]
        },
        {
          "output_type": "stream",
          "name": "stderr",
          "text": [
            "/usr/local/lib/python3.7/dist-packages/sklearn/preprocessing/_label.py:98: DataConversionWarning: A column-vector y was passed when a 1d array was expected. Please change the shape of y to (n_samples, ), for example using ravel().\n",
            "  y = column_or_1d(y, warn=True)\n",
            "/usr/local/lib/python3.7/dist-packages/sklearn/preprocessing/_label.py:133: DataConversionWarning: A column-vector y was passed when a 1d array was expected. Please change the shape of y to (n_samples, ), for example using ravel().\n",
            "  y = column_or_1d(y, warn=True)\n"
          ]
        },
        {
          "output_type": "stream",
          "name": "stdout",
          "text": [
            "[CV 4/4] END learning_rate=0.1, max_depth=5, n_estimators=20; roc_auc: (test=0.900) total time= 1.6min\n"
          ]
        },
        {
          "output_type": "stream",
          "name": "stderr",
          "text": [
            "/usr/local/lib/python3.7/dist-packages/sklearn/preprocessing/_label.py:98: DataConversionWarning: A column-vector y was passed when a 1d array was expected. Please change the shape of y to (n_samples, ), for example using ravel().\n",
            "  y = column_or_1d(y, warn=True)\n",
            "/usr/local/lib/python3.7/dist-packages/sklearn/preprocessing/_label.py:133: DataConversionWarning: A column-vector y was passed when a 1d array was expected. Please change the shape of y to (n_samples, ), for example using ravel().\n",
            "  y = column_or_1d(y, warn=True)\n"
          ]
        },
        {
          "output_type": "stream",
          "name": "stdout",
          "text": [
            "[CV 1/4] END learning_rate=1, max_depth=1, n_estimators=10; roc_auc: (test=0.904) total time=  24.1s\n"
          ]
        },
        {
          "output_type": "stream",
          "name": "stderr",
          "text": [
            "/usr/local/lib/python3.7/dist-packages/sklearn/preprocessing/_label.py:98: DataConversionWarning: A column-vector y was passed when a 1d array was expected. Please change the shape of y to (n_samples, ), for example using ravel().\n",
            "  y = column_or_1d(y, warn=True)\n",
            "/usr/local/lib/python3.7/dist-packages/sklearn/preprocessing/_label.py:133: DataConversionWarning: A column-vector y was passed when a 1d array was expected. Please change the shape of y to (n_samples, ), for example using ravel().\n",
            "  y = column_or_1d(y, warn=True)\n"
          ]
        },
        {
          "output_type": "stream",
          "name": "stdout",
          "text": [
            "[CV 2/4] END learning_rate=1, max_depth=1, n_estimators=10; roc_auc: (test=0.905) total time=  23.1s\n"
          ]
        },
        {
          "output_type": "stream",
          "name": "stderr",
          "text": [
            "/usr/local/lib/python3.7/dist-packages/sklearn/preprocessing/_label.py:98: DataConversionWarning: A column-vector y was passed when a 1d array was expected. Please change the shape of y to (n_samples, ), for example using ravel().\n",
            "  y = column_or_1d(y, warn=True)\n",
            "/usr/local/lib/python3.7/dist-packages/sklearn/preprocessing/_label.py:133: DataConversionWarning: A column-vector y was passed when a 1d array was expected. Please change the shape of y to (n_samples, ), for example using ravel().\n",
            "  y = column_or_1d(y, warn=True)\n"
          ]
        },
        {
          "output_type": "stream",
          "name": "stdout",
          "text": [
            "[CV 3/4] END learning_rate=1, max_depth=1, n_estimators=10; roc_auc: (test=0.900) total time=  23.3s\n"
          ]
        },
        {
          "output_type": "stream",
          "name": "stderr",
          "text": [
            "/usr/local/lib/python3.7/dist-packages/sklearn/preprocessing/_label.py:98: DataConversionWarning: A column-vector y was passed when a 1d array was expected. Please change the shape of y to (n_samples, ), for example using ravel().\n",
            "  y = column_or_1d(y, warn=True)\n",
            "/usr/local/lib/python3.7/dist-packages/sklearn/preprocessing/_label.py:133: DataConversionWarning: A column-vector y was passed when a 1d array was expected. Please change the shape of y to (n_samples, ), for example using ravel().\n",
            "  y = column_or_1d(y, warn=True)\n"
          ]
        },
        {
          "output_type": "stream",
          "name": "stdout",
          "text": [
            "[CV 4/4] END learning_rate=1, max_depth=1, n_estimators=10; roc_auc: (test=0.899) total time=  23.4s\n"
          ]
        },
        {
          "output_type": "stream",
          "name": "stderr",
          "text": [
            "/usr/local/lib/python3.7/dist-packages/sklearn/preprocessing/_label.py:98: DataConversionWarning: A column-vector y was passed when a 1d array was expected. Please change the shape of y to (n_samples, ), for example using ravel().\n",
            "  y = column_or_1d(y, warn=True)\n",
            "/usr/local/lib/python3.7/dist-packages/sklearn/preprocessing/_label.py:133: DataConversionWarning: A column-vector y was passed when a 1d array was expected. Please change the shape of y to (n_samples, ), for example using ravel().\n",
            "  y = column_or_1d(y, warn=True)\n"
          ]
        },
        {
          "output_type": "stream",
          "name": "stdout",
          "text": [
            "[CV 1/4] END learning_rate=1, max_depth=1, n_estimators=20; roc_auc: (test=0.905) total time=  37.3s\n"
          ]
        },
        {
          "output_type": "stream",
          "name": "stderr",
          "text": [
            "/usr/local/lib/python3.7/dist-packages/sklearn/preprocessing/_label.py:98: DataConversionWarning: A column-vector y was passed when a 1d array was expected. Please change the shape of y to (n_samples, ), for example using ravel().\n",
            "  y = column_or_1d(y, warn=True)\n",
            "/usr/local/lib/python3.7/dist-packages/sklearn/preprocessing/_label.py:133: DataConversionWarning: A column-vector y was passed when a 1d array was expected. Please change the shape of y to (n_samples, ), for example using ravel().\n",
            "  y = column_or_1d(y, warn=True)\n"
          ]
        },
        {
          "output_type": "stream",
          "name": "stdout",
          "text": [
            "[CV 2/4] END learning_rate=1, max_depth=1, n_estimators=20; roc_auc: (test=0.907) total time=  36.5s\n"
          ]
        },
        {
          "output_type": "stream",
          "name": "stderr",
          "text": [
            "/usr/local/lib/python3.7/dist-packages/sklearn/preprocessing/_label.py:98: DataConversionWarning: A column-vector y was passed when a 1d array was expected. Please change the shape of y to (n_samples, ), for example using ravel().\n",
            "  y = column_or_1d(y, warn=True)\n",
            "/usr/local/lib/python3.7/dist-packages/sklearn/preprocessing/_label.py:133: DataConversionWarning: A column-vector y was passed when a 1d array was expected. Please change the shape of y to (n_samples, ), for example using ravel().\n",
            "  y = column_or_1d(y, warn=True)\n"
          ]
        },
        {
          "output_type": "stream",
          "name": "stdout",
          "text": [
            "[CV 3/4] END learning_rate=1, max_depth=1, n_estimators=20; roc_auc: (test=0.902) total time=  36.6s\n"
          ]
        },
        {
          "output_type": "stream",
          "name": "stderr",
          "text": [
            "/usr/local/lib/python3.7/dist-packages/sklearn/preprocessing/_label.py:98: DataConversionWarning: A column-vector y was passed when a 1d array was expected. Please change the shape of y to (n_samples, ), for example using ravel().\n",
            "  y = column_or_1d(y, warn=True)\n",
            "/usr/local/lib/python3.7/dist-packages/sklearn/preprocessing/_label.py:133: DataConversionWarning: A column-vector y was passed when a 1d array was expected. Please change the shape of y to (n_samples, ), for example using ravel().\n",
            "  y = column_or_1d(y, warn=True)\n"
          ]
        },
        {
          "output_type": "stream",
          "name": "stdout",
          "text": [
            "[CV 4/4] END learning_rate=1, max_depth=1, n_estimators=20; roc_auc: (test=0.900) total time=  37.7s\n"
          ]
        },
        {
          "output_type": "stream",
          "name": "stderr",
          "text": [
            "/usr/local/lib/python3.7/dist-packages/sklearn/preprocessing/_label.py:98: DataConversionWarning: A column-vector y was passed when a 1d array was expected. Please change the shape of y to (n_samples, ), for example using ravel().\n",
            "  y = column_or_1d(y, warn=True)\n",
            "/usr/local/lib/python3.7/dist-packages/sklearn/preprocessing/_label.py:133: DataConversionWarning: A column-vector y was passed when a 1d array was expected. Please change the shape of y to (n_samples, ), for example using ravel().\n",
            "  y = column_or_1d(y, warn=True)\n"
          ]
        },
        {
          "output_type": "stream",
          "name": "stdout",
          "text": [
            "[CV 1/4] END learning_rate=1, max_depth=5, n_estimators=10; roc_auc: (test=0.907) total time=  52.6s\n"
          ]
        },
        {
          "output_type": "stream",
          "name": "stderr",
          "text": [
            "/usr/local/lib/python3.7/dist-packages/sklearn/preprocessing/_label.py:98: DataConversionWarning: A column-vector y was passed when a 1d array was expected. Please change the shape of y to (n_samples, ), for example using ravel().\n",
            "  y = column_or_1d(y, warn=True)\n",
            "/usr/local/lib/python3.7/dist-packages/sklearn/preprocessing/_label.py:133: DataConversionWarning: A column-vector y was passed when a 1d array was expected. Please change the shape of y to (n_samples, ), for example using ravel().\n",
            "  y = column_or_1d(y, warn=True)\n"
          ]
        },
        {
          "output_type": "stream",
          "name": "stdout",
          "text": [
            "[CV 2/4] END learning_rate=1, max_depth=5, n_estimators=10; roc_auc: (test=0.908) total time=  51.5s\n"
          ]
        },
        {
          "output_type": "stream",
          "name": "stderr",
          "text": [
            "/usr/local/lib/python3.7/dist-packages/sklearn/preprocessing/_label.py:98: DataConversionWarning: A column-vector y was passed when a 1d array was expected. Please change the shape of y to (n_samples, ), for example using ravel().\n",
            "  y = column_or_1d(y, warn=True)\n",
            "/usr/local/lib/python3.7/dist-packages/sklearn/preprocessing/_label.py:133: DataConversionWarning: A column-vector y was passed when a 1d array was expected. Please change the shape of y to (n_samples, ), for example using ravel().\n",
            "  y = column_or_1d(y, warn=True)\n"
          ]
        },
        {
          "output_type": "stream",
          "name": "stdout",
          "text": [
            "[CV 3/4] END learning_rate=1, max_depth=5, n_estimators=10; roc_auc: (test=0.905) total time=  51.5s\n"
          ]
        },
        {
          "output_type": "stream",
          "name": "stderr",
          "text": [
            "/usr/local/lib/python3.7/dist-packages/sklearn/preprocessing/_label.py:98: DataConversionWarning: A column-vector y was passed when a 1d array was expected. Please change the shape of y to (n_samples, ), for example using ravel().\n",
            "  y = column_or_1d(y, warn=True)\n",
            "/usr/local/lib/python3.7/dist-packages/sklearn/preprocessing/_label.py:133: DataConversionWarning: A column-vector y was passed when a 1d array was expected. Please change the shape of y to (n_samples, ), for example using ravel().\n",
            "  y = column_or_1d(y, warn=True)\n"
          ]
        },
        {
          "output_type": "stream",
          "name": "stdout",
          "text": [
            "[CV 4/4] END learning_rate=1, max_depth=5, n_estimators=10; roc_auc: (test=0.902) total time=  51.9s\n"
          ]
        },
        {
          "output_type": "stream",
          "name": "stderr",
          "text": [
            "/usr/local/lib/python3.7/dist-packages/sklearn/preprocessing/_label.py:98: DataConversionWarning: A column-vector y was passed when a 1d array was expected. Please change the shape of y to (n_samples, ), for example using ravel().\n",
            "  y = column_or_1d(y, warn=True)\n",
            "/usr/local/lib/python3.7/dist-packages/sklearn/preprocessing/_label.py:133: DataConversionWarning: A column-vector y was passed when a 1d array was expected. Please change the shape of y to (n_samples, ), for example using ravel().\n",
            "  y = column_or_1d(y, warn=True)\n"
          ]
        },
        {
          "output_type": "stream",
          "name": "stdout",
          "text": [
            "[CV 1/4] END learning_rate=1, max_depth=5, n_estimators=20; roc_auc: (test=0.906) total time= 1.6min\n"
          ]
        },
        {
          "output_type": "stream",
          "name": "stderr",
          "text": [
            "/usr/local/lib/python3.7/dist-packages/sklearn/preprocessing/_label.py:98: DataConversionWarning: A column-vector y was passed when a 1d array was expected. Please change the shape of y to (n_samples, ), for example using ravel().\n",
            "  y = column_or_1d(y, warn=True)\n",
            "/usr/local/lib/python3.7/dist-packages/sklearn/preprocessing/_label.py:133: DataConversionWarning: A column-vector y was passed when a 1d array was expected. Please change the shape of y to (n_samples, ), for example using ravel().\n",
            "  y = column_or_1d(y, warn=True)\n"
          ]
        },
        {
          "output_type": "stream",
          "name": "stdout",
          "text": [
            "[CV 2/4] END learning_rate=1, max_depth=5, n_estimators=20; roc_auc: (test=0.908) total time= 1.6min\n"
          ]
        },
        {
          "output_type": "stream",
          "name": "stderr",
          "text": [
            "/usr/local/lib/python3.7/dist-packages/sklearn/preprocessing/_label.py:98: DataConversionWarning: A column-vector y was passed when a 1d array was expected. Please change the shape of y to (n_samples, ), for example using ravel().\n",
            "  y = column_or_1d(y, warn=True)\n",
            "/usr/local/lib/python3.7/dist-packages/sklearn/preprocessing/_label.py:133: DataConversionWarning: A column-vector y was passed when a 1d array was expected. Please change the shape of y to (n_samples, ), for example using ravel().\n",
            "  y = column_or_1d(y, warn=True)\n"
          ]
        },
        {
          "output_type": "stream",
          "name": "stdout",
          "text": [
            "[CV 3/4] END learning_rate=1, max_depth=5, n_estimators=20; roc_auc: (test=0.904) total time= 1.6min\n"
          ]
        },
        {
          "output_type": "stream",
          "name": "stderr",
          "text": [
            "/usr/local/lib/python3.7/dist-packages/sklearn/preprocessing/_label.py:98: DataConversionWarning: A column-vector y was passed when a 1d array was expected. Please change the shape of y to (n_samples, ), for example using ravel().\n",
            "  y = column_or_1d(y, warn=True)\n",
            "/usr/local/lib/python3.7/dist-packages/sklearn/preprocessing/_label.py:133: DataConversionWarning: A column-vector y was passed when a 1d array was expected. Please change the shape of y to (n_samples, ), for example using ravel().\n",
            "  y = column_or_1d(y, warn=True)\n"
          ]
        },
        {
          "output_type": "stream",
          "name": "stdout",
          "text": [
            "[CV 4/4] END learning_rate=1, max_depth=5, n_estimators=20; roc_auc: (test=0.901) total time= 1.6min\n"
          ]
        },
        {
          "output_type": "stream",
          "name": "stderr",
          "text": [
            "/usr/local/lib/python3.7/dist-packages/sklearn/preprocessing/_label.py:98: DataConversionWarning: A column-vector y was passed when a 1d array was expected. Please change the shape of y to (n_samples, ), for example using ravel().\n",
            "  y = column_or_1d(y, warn=True)\n",
            "/usr/local/lib/python3.7/dist-packages/sklearn/preprocessing/_label.py:133: DataConversionWarning: A column-vector y was passed when a 1d array was expected. Please change the shape of y to (n_samples, ), for example using ravel().\n",
            "  y = column_or_1d(y, warn=True)\n"
          ]
        },
        {
          "output_type": "execute_result",
          "data": {
            "text/plain": [
              "GridSearchCV(cv=4, estimator=XGBClassifier(random_state=500),\n",
              "             param_grid={'learning_rate': [0.1, 1], 'max_depth': [1, 5],\n",
              "                         'n_estimators': [10, 20]},\n",
              "             refit='roc_auc', scoring=['roc_auc'], verbose=4)"
            ]
          },
          "metadata": {},
          "execution_count": 21
        }
      ]
    },
    {
      "cell_type": "markdown",
      "source": [
        "mejor estimador"
      ],
      "metadata": {
        "id": "Tsed_1iwgKPN"
      }
    },
    {
      "cell_type": "code",
      "source": [
        "'''random forest'''\n",
        "GSrandomForest.best_estimator_"
      ],
      "metadata": {
        "colab": {
          "base_uri": "https://localhost:8080/"
        },
        "id": "5tK4bsMNgFXD",
        "outputId": "5754261c-7a3d-48d4-89fe-b5c56f4943e4"
      },
      "execution_count": null,
      "outputs": [
        {
          "output_type": "stream",
          "name": "stdout",
          "text": [
            "RandomForestClassifier(class_weight='balanced', max_depth=5, n_estimators=50)\n"
          ]
        }
      ]
    },
    {
      "cell_type": "code",
      "source": [
        "'''xg boost'''\n",
        "GSxgb.best_estimator_"
      ],
      "metadata": {
        "colab": {
          "base_uri": "https://localhost:8080/"
        },
        "id": "HO0--8PAvmba",
        "outputId": "13312907-3ac2-4f44-b9a9-5aba0d9136eb"
      },
      "execution_count": null,
      "outputs": [
        {
          "output_type": "execute_result",
          "data": {
            "text/plain": [
              "XGBClassifier(learning_rate=1, max_depth=5, n_estimators=10, random_state=500)"
            ]
          },
          "metadata": {},
          "execution_count": 22
        }
      ]
    },
    {
      "cell_type": "code",
      "source": [
        "bestRandomForest = RandomForestClassifier(max_depth=5, n_estimators=50, class_weight='balanced')\n",
        "bestRandomForest.fit(X_train, Y_train)"
      ],
      "metadata": {
        "colab": {
          "base_uri": "https://localhost:8080/"
        },
        "id": "Fw4TGImagFZz",
        "outputId": "89c89251-8e3a-448a-ba27-51fcd5d5e1c3"
      },
      "execution_count": null,
      "outputs": [
        {
          "output_type": "stream",
          "name": "stdout",
          "text": [
            "/usr/local/lib/python3.7/dist-packages/ipykernel_launcher.py:2: DataConversionWarning: A column-vector y was passed when a 1d array was expected. Please change the shape of y to (n_samples,), for example using ravel().\n"
          ]
        }
      ]
    },
    {
      "cell_type": "markdown",
      "source": [
        "en este caso la métrica utilizada va a ser la matriz de confusión y no auc ya que contienen información similar pero la matriz de confusión es más visual más visual"
      ],
      "metadata": {
        "id": "qSLE_N_Nkc6c"
      }
    },
    {
      "cell_type": "code",
      "source": [
        "from sklearn.metrics import confusion_matrix, roc_curve, classification_report\n",
        "import seaborn as sns"
      ],
      "metadata": {
        "id": "CKJsULB_kzUK"
      },
      "execution_count": null,
      "outputs": []
    },
    {
      "cell_type": "markdown",
      "source": [
        "error de entrenamiento"
      ],
      "metadata": {
        "id": "T2ETjJKMlCRi"
      }
    },
    {
      "cell_type": "code",
      "source": [
        "predRFEntrenamiento = bestRandomForest.predict(X_train)\n",
        "predRFEntrenamiento"
      ],
      "metadata": {
        "colab": {
          "base_uri": "https://localhost:8080/"
        },
        "id": "1m7qk0LIkzXj",
        "outputId": "8988f6cc-2af1-40d8-a0b0-a1fdb78bb3e5"
      },
      "execution_count": null,
      "outputs": [
        {
          "output_type": "execute_result",
          "data": {
            "text/plain": [
              "array([1, 0, 1, ..., 1, 1, 0])"
            ]
          },
          "metadata": {},
          "execution_count": 16
        }
      ]
    },
    {
      "cell_type": "code",
      "source": [
        "matrizConfusionEntrenamiento = confusion_matrix(Y_train, predRFEntrenamiento)\n",
        "tn, fp, fn, tp = matrizConfusionEntrenamiento.ravel()\n",
        "sensitivity = tp/(fn + tp)\n",
        "specificity = tn/(tn+fp)\n",
        "plt.figure(figsize = (20, 12))\n",
        "sns.heatmap(matrizConfusionEntrenamiento, annot=True)\n",
        "print(\"sensibilidad: \", sensitivity, \"especificidad: \", specificity)"
      ],
      "metadata": {
        "colab": {
          "base_uri": "https://localhost:8080/",
          "height": 717
        },
        "id": "W6Mj6E3Qkzas",
        "outputId": "dd741e5d-a32b-40f7-d5f4-3381b56e43c0"
      },
      "execution_count": null,
      "outputs": [
        {
          "output_type": "stream",
          "name": "stdout",
          "text": [
            "sensibilidad:  0.811995752232174 especificidad:  0.8480960548885077\n"
          ]
        },
        {
          "output_type": "display_data",
          "data": {
            "text/plain": [
              "<Figure size 1440x864 with 2 Axes>"
            ],
            "image/png": "[encoded data removed]"
          },
          "metadata": {
            "needs_background": "light"
          }
        }
      ]
    },
    {
      "cell_type": "markdown",
      "source": [
        "error de validación"
      ],
      "metadata": {
        "id": "xWpj4k7upveE"
      }
    },
    {
      "cell_type": "code",
      "source": [
        "predRFValidacion= bestRandomForest.predict(X_test)"
      ],
      "metadata": {
        "id": "mRZ8iFT9kzd3"
      },
      "execution_count": null,
      "outputs": []
    },
    {
      "cell_type": "code",
      "source": [
        "matrizConfusionValidacion = confusion_matrix(Y_test, predRFValidacion)\n",
        "tn, fp, fn, tp = matrizConfusionValidacion.ravel()\n",
        "sensitivity = tp/(fn + tp)\n",
        "specificity = tn/(tn+fp)\n",
        "plt.figure(figsize = (20, 12))\n",
        "sns.heatmap(matrizConfusionValidacion, annot=True)\n",
        "print(\"sensibilidad: \", sensitivity, \"especificidad: \", specificity)"
      ],
      "metadata": {
        "colab": {
          "base_uri": "https://localhost:8080/",
          "height": 717
        },
        "id": "xAmubpI8p1io",
        "outputId": "01ca22e0-6e13-4728-ab75-b6d0274d4728"
      },
      "execution_count": null,
      "outputs": [
        {
          "output_type": "stream",
          "name": "stdout",
          "text": [
            "sensibilidad:  0.8126739934930626 especificidad:  0.8310663764961915\n"
          ]
        },
        {
          "output_type": "display_data",
          "data": {
            "text/plain": [
              "<Figure size 1440x864 with 2 Axes>"
            ],
            "image/png": "[encoded data removed]"
          },
          "metadata": {
            "needs_background": "light"
          }
        }
      ]
    },
    {
      "cell_type": "code",
      "source": [
        "bestXGBoost = XGBClassifier(learning_rate=1, max_depth=5, n_estimators=10, random_state=500, class_weight='balanced')\n",
        "bestXGBoost.fit(X_train, Y_train)"
      ],
      "metadata": {
        "colab": {
          "base_uri": "https://localhost:8080/"
        },
        "id": "TzRMFBOowtjl",
        "outputId": "c156869d-c50b-4340-f2c7-f2da4fe05a96"
      },
      "execution_count": null,
      "outputs": [
        {
          "output_type": "stream",
          "name": "stderr",
          "text": [
            "/usr/local/lib/python3.7/dist-packages/sklearn/preprocessing/_label.py:98: DataConversionWarning: A column-vector y was passed when a 1d array was expected. Please change the shape of y to (n_samples, ), for example using ravel().\n",
            "  y = column_or_1d(y, warn=True)\n",
            "/usr/local/lib/python3.7/dist-packages/sklearn/preprocessing/_label.py:133: DataConversionWarning: A column-vector y was passed when a 1d array was expected. Please change the shape of y to (n_samples, ), for example using ravel().\n",
            "  y = column_or_1d(y, warn=True)\n"
          ]
        },
        {
          "output_type": "execute_result",
          "data": {
            "text/plain": [
              "XGBClassifier(class_weight='balanced', learning_rate=1, max_depth=5,\n",
              "              n_estimators=10, random_state=500)"
            ]
          },
          "metadata": {},
          "execution_count": 17
        }
      ]
    },
    {
      "cell_type": "markdown",
      "source": [
        "error de entrenamiento"
      ],
      "metadata": {
        "id": "EL4v-t0Tx71H"
      }
    },
    {
      "cell_type": "code",
      "source": [
        "predRFEntrenamiento = bestXGBoost.predict(X_train)\n",
        "predRFEntrenamiento"
      ],
      "metadata": {
        "colab": {
          "base_uri": "https://localhost:8080/"
        },
        "id": "I9pL_CQIx9HQ",
        "outputId": "51edd728-c361-487e-bf16-2e9b25f92761"
      },
      "execution_count": null,
      "outputs": [
        {
          "output_type": "execute_result",
          "data": {
            "text/plain": [
              "array([1, 1, 1, ..., 1, 1, 1])"
            ]
          },
          "metadata": {},
          "execution_count": 18
        }
      ]
    },
    {
      "cell_type": "code",
      "source": [
        "matrizConfusionEntrenamiento = confusion_matrix(Y_train, predRFEntrenamiento)\n",
        "tn, fp, fn, tp = matrizConfusionEntrenamiento.ravel()\n",
        "sensitivity = tp/(fn + tp)\n",
        "specificity = tn/(tn+fp)\n",
        "plt.figure(figsize = (20, 12))\n",
        "sns.heatmap(matrizConfusionEntrenamiento, annot=True)\n",
        "print(\"sensibilidad: \", sensitivity, \"especificidad: \", specificity)"
      ],
      "metadata": {
        "colab": {
          "base_uri": "https://localhost:8080/",
          "height": 717
        },
        "id": "VLLLSiwmyYtP",
        "outputId": "fc33e1d0-eb7d-4d7d-ce52-4d52d8678be2"
      },
      "execution_count": null,
      "outputs": [
        {
          "output_type": "stream",
          "name": "stdout",
          "text": [
            "sensibilidad:  0.9997023767937737 especificidad:  0.018113207547169812\n"
          ]
        },
        {
          "output_type": "display_data",
          "data": {
            "text/plain": [
              "<Figure size 1440x864 with 2 Axes>"
            ],
            "image/png": "[encoded data removed]"
          },
          "metadata": {
            "needs_background": "light"
          }
        }
      ]
    },
    {
      "cell_type": "code",
      "source": [
        "predRFValidacion= bestXGBoost.predict(X_test)"
      ],
      "metadata": {
        "id": "KkRfLoex8MAE"
      },
      "execution_count": null,
      "outputs": []
    },
    {
      "cell_type": "code",
      "source": [
        "matrizConfusionValidacion = confusion_matrix(Y_test, predRFValidacion)\n",
        "tn, fp, fn, tp = matrizConfusionValidacion.ravel()\n",
        "sensitivity = tp/(fn + tp)\n",
        "specificity = tn/(tn+fp)\n",
        "plt.figure(figsize = (20, 12))\n",
        "sns.heatmap(matrizConfusionValidacion, annot=True)\n",
        "print(\"sensibilidad: \", sensitivity, \"especificidad: \", specificity)"
      ],
      "metadata": {
        "colab": {
          "base_uri": "https://localhost:8080/",
          "height": 717
        },
        "id": "CTaRNFt28OsR",
        "outputId": "b9622a82-ae41-4bb6-ec03-ed893c8e2d94"
      },
      "execution_count": null,
      "outputs": [
        {
          "output_type": "stream",
          "name": "stdout",
          "text": [
            "sensibilidad:  0.9995919188757085 especificidad:  0.013057671381936888\n"
          ]
        },
        {
          "output_type": "display_data",
          "data": {
            "text/plain": [
              "<Figure size 1440x864 with 2 Axes>"
            ],
            "image/png": "[encoded data removed]"
          },
          "metadata": {
            "needs_background": "light"
          }
        }
      ]
    },
    {
      "cell_type": "markdown",
      "source": [
        "error de validacion"
      ],
      "metadata": {
        "id": "Za2cbvLh8J9G"
      }
    },
    {
      "cell_type": "markdown",
      "source": [
        "# conclusiones\n",
        "- en la práctica se utilizaron dos modelos de ensamblaje, por lo que las predicciones en general fueron buenas, sin embargo, los modelos de ensamblaje son computacionalmente costosos y realizar el tunning utilizando grid search tomó bastante tiempo.\n",
        "- considerando el verbose del grid search, el modelo que mejor se desempea en terminos de tiempo es el random forest.\n",
        "- en terminos de especificidad y sensibilidad, el random forest se mantiene por encima del 80% pero sin superar el 85% tanto para el dataset de entrenamiento como para el de validacion  \n",
        "- el xgboost presenta una sensibilidad del 99% tanto en validación como en entrenamiento, es decir, si el modelo predice que un paciente va a sobrevivir, hay una alta confianza de que sea cierto mientras que tiene una baja especificidad de al rededor del 1%, por lo que el modelo tiene problemas identificanto a los que fallecen."
      ],
      "metadata": {
        "id": "dUR48f2bt8dn"
      }
    }
  ]
}